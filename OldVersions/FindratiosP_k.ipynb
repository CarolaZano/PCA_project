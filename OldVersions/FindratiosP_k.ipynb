{
 "cells": [
  {
   "cell_type": "markdown",
   "id": "37c49832-465f-4515-aca8-a78e7ee966b8",
   "metadata": {},
   "source": [
    "## Computing lensing C_ell(ell) for reasonable redshift distribution of sources and parameter values\n"
   ]
  },
  {
   "cell_type": "markdown",
   "id": "de539f05-a968-4f17-b968-dd77e7cb4ac5",
   "metadata": {
    "jupyter": {
     "source_hidden": true
    },
    "tags": []
   },
   "source": [
    "Eq 1: $C^{ij}_{\\mathcal{A}\\mathcal{B}}(\\ell) = \\int d\\chi \\frac{W^{i}_{\\mathcal{A}}(\\chi)W^{j}_{\\mathcal{B}}(\\chi) }{\\chi^2}P_{\\mathcal{A}\\mathcal{B}} ( k = \\frac{\\ell + 0.5}{\\chi}, z) $"
   ]
  },
  {
   "cell_type": "markdown",
   "id": "0bf687d4-6029-4c84-ac4a-71c200c619a7",
   "metadata": {
    "jupyter": {
     "source_hidden": true
    },
    "tags": []
   },
   "source": [
    "Where:\n",
    "- i,j denote redshift bins\n",
    "- Subscripts $\\mathcal{A}\\mathcal{B} \\in \\{\\delta_g, \\kappa\\}$ stand for specific E- and B- modes (kappa) or for specific observed galaxy number densities (delta)\n",
    "- C is the angular power spectrum\n",
    "- $P_{\\delta}$ is three-dimensional matter power spectrum\n",
    "- $\\chi$ is comoving distance"
   ]
  },
  {
   "cell_type": "markdown",
   "id": "201715f0-2044-4fe8-8261-77472301be5a",
   "metadata": {
    "jupyter": {
     "source_hidden": true
    },
    "tags": []
   },
   "source": [
    "Eq 4: $W^{i}_{\\kappa,g}(\\chi) = \\frac{3\\Omega_{m}H_{0}^{2}}{2c^2} \\int_{\\chi}^{\\infty}d\\chi'n^{i}_{g}(\\chi')\\frac{\\chi}{a(\\chi)}\\frac{\\chi' - \\chi}{\\chi'}$\n",
    "\n",
    "Where W is the tomographic lens efficiency"
   ]
  },
  {
   "cell_type": "markdown",
   "id": "c29d8f28-97bf-4d19-be13-c47e2d0489bd",
   "metadata": {
    "jupyter": {
     "source_hidden": true
    },
    "tags": []
   },
   "source": [
    "We are looking for shear power spectra, so:\n",
    "\n",
    "$C^{ij}_{EE}(\\ell) = C^{ij}_{\\kappa_s\\kappa_s}(\\ell) + C^{ij}_{\\kappa_s I_E}(\\ell) + C^{ji}_{\\kappa_s I_E}(\\ell) + C^{ij}_{I_E I_E}(\\ell)$\n",
    "\n",
    "or \n",
    "\n",
    "$C^{ij}_{BB}(\\ell) = C^{ij}_{I_B I_B}(\\ell)$\n",
    "\n",
    "$I_{E/B}$ stand for the E/B mode decomposition of IA, and we will ignore these components for our analysis.\n",
    "$\\kappa_s$ stands for the tomographic convergence field of the source galaxy (?)"
   ]
  },
  {
   "cell_type": "code",
   "execution_count": 1,
   "id": "9bb1011c-cb90-4093-ad11-7d2559354a73",
   "metadata": {},
   "outputs": [],
   "source": [
    "\"\"\" defining all functions to find C_ell \"\"\"\n",
    "\n",
    "# define the reasonable redshift distribution from github\n",
    "def redshiftdist(z):\n",
    "    \n",
    "    i_lim = 26.                                                            # Limiting i-band magnitude\n",
    "    z0 = 0.0417 * i_lim - 0.744\n",
    "    pz = 1. / (2. * z0) * (z / z0)**2. * np.exp(-z / z0)                   # Redshift distribution, p(z)\n",
    "    \n",
    "    return pz                                                              # to check for normalized pz print(scipy.integrate.simps(pz, z))\n",
    "\n",
    "# solves equation 4\n",
    "# note: z here is an array not a single value. returns array\n",
    "\n",
    "def Wkappag(z, c, cosmo):\n",
    "    \n",
    "    zmax = 6.                                                              # z at horizon from Planck 2018\n",
    "    a = 1/(1 + z)\n",
    "    chiz = ccl.comoving_radial_distance(cosmo,a)                           # units of Mpc\n",
    "    \n",
    "    Wkg = np.zeros(len(z))     \n",
    "    for i in range(len(z)):                                                # TODO is this a reasonable way of calculating this stuff?\n",
    "        x = np.linspace(z[i],zmax,int(1e4))                                # variable we integrate over\n",
    "        ax = 1/(1 + x)\n",
    "        chix = ccl.comoving_radial_distance(cosmo,ax)\n",
    "        dchidx = c/(cosmo['H0']*ccl.h_over_h0(cosmo,ax))\n",
    "        px = redshiftdist(x)\n",
    "        integrand = px*chiz[i]*(chix - chiz[i])/(a[i]*chix)\n",
    "        Wkg[i] = scipy.integrate.simps(integrand, x)*3*cosmo['Omega_m']*(cosmo['H0']**2)/(2*c**2)\n",
    "    Wkg[len(z)-1] = 0.0                                                    # The last integral is over nothing. to avoid nan\n",
    "    \n",
    "    return Wkg\n",
    "\n",
    "# function that finds C_ell(ell) for a given z distribution. A, B, i, j can be changed by manually changing quantities in the function\n",
    "# Note: if we assume \\LambdaCDM cosmology (or some cosmology) don't need function h_over_h0. \n",
    "# Can find chi(z) and z(chi) manually\n",
    "\n",
    "def findC_ell(cosmo,c,ell,z):\n",
    "                                                                          # find useful functs of z\n",
    "    a = 1/(1 + z)\n",
    "    chiz = ccl.comoving_radial_distance(cosmo,a)\n",
    "    Wkg = Wkappag(z, c, cosmo)                                            # find tomographic lens efficiency\n",
    "                                                                          # find matter power spectrum\n",
    "    MatterPowerSpec_lz = np.zeros((len(z),len(ell)))\n",
    "    for i in range(len(z)):                                               # MatterPowerSpec_lz[i] is for ith z\n",
    "        MatterPowerSpec_lz[i] = ccl.power.nonlin_power(cosmo, (ell + 0.5)/chiz[i] , a[i])\n",
    "    MatterPowerSpec_lz = np.transpose(MatterPowerSpec_lz)\n",
    "                                                                          # find C_ell\n",
    "    C_ell = np.zeros(len(ell))\n",
    "    for i in range(len(ell)):\n",
    "        integrand = (Wkg**2)*MatterPowerSpec_lz[i]/(chiz**2)\n",
    "        C_ell[i] = scipy.integrate.simps(integrand, chiz, axis = 0)\n",
    "    return C_ell\n",
    "\n",
    "def findC_ell_linear(cosmo,c,ell,z):\n",
    "                                                                          # find useful functs of z\n",
    "    a = 1/(1 + z)\n",
    "    chiz = ccl.comoving_radial_distance(cosmo,a)\n",
    "    Wkg = Wkappag(z, c, cosmo)                                            # find tomographic lens efficiency\n",
    "                                                                          # find matter power spectrum\n",
    "    MatterPowerSpec_lz = np.zeros((len(z),len(ell)))\n",
    "    for i in range(len(z)):                                               # MatterPowerSpec_lz[i] is for ith z\n",
    "        MatterPowerSpec_lz[i] = ccl.power.linear_power(cosmo, (ell + 0.5)/chiz[i] , a[i])\n",
    "    MatterPowerSpec_lz = np.transpose(MatterPowerSpec_lz)\n",
    "                                                                          # find C_ell\n",
    "    C_ell = np.zeros(len(ell))\n",
    "    for i in range(len(ell)):\n",
    "        integrand = (Wkg**2)*MatterPowerSpec_lz[i]/(chiz**2)\n",
    "        C_ell[i] = scipy.integrate.simps(integrand, chiz, axis = 0)\n",
    "    return C_ell"
   ]
  },
  {
   "cell_type": "code",
   "execution_count": 2,
   "id": "c7130efd-63a9-4d8a-8a1c-e0c34c246d3f",
   "metadata": {},
   "outputs": [],
   "source": [
    "#bits of the code come from CCLX/Example MCMC analysis on GitHub\n",
    "\n",
    "import matplotlib.pyplot as plt \n",
    "import pyccl as ccl\n",
    "import numpy as np\n",
    "import scipy\n",
    "%matplotlib inline\n",
    "\n",
    "# for nicer plots http://seaborn.pydata.org -- optional\n",
    "# if you don't want to use it, you can comment this and the next line\n",
    "\n",
    "import seaborn as sns; sns.set_style('darkgrid')\n",
    "sns.set_context(\"talk\")"
   ]
  },
  {
   "cell_type": "markdown",
   "id": "be8bffb8-0420-4868-835d-1c69c50f672c",
   "metadata": {
    "tags": []
   },
   "source": [
    "# Program starts here"
   ]
  },
  {
   "cell_type": "code",
   "execution_count": 11,
   "id": "be7217fc-8de0-408f-b119-036ee259dbfc",
   "metadata": {},
   "outputs": [],
   "source": [
    "\"\"\" define cosmological parameters \"\"\"\n",
    "cosmo = np.zeros((3,3) , dtype=object)\n",
    "\n",
    "for i in range(len(cosmo)):\n",
    "    for j in range(len(cosmo[0])):\n",
    "        cosmo[i][j] = ccl.Cosmology(Omega_c = 0.23, # + (0.04 * i), \n",
    "                      Omega_b = 0.045, \n",
    "                      h = 0.67, \n",
    "                      n_s = 0.7 + (0.15 * i),\n",
    "                      sigma8 = 0.7 + 0.25 * j, \n",
    "                      transfer_function='bbks')\n",
    "cosmo = np.append(np.append(cosmo[0] , cosmo[1]) , cosmo[2])\n",
    "\n",
    "c = 3e5                                                                  # km/s"
   ]
  },
  {
   "cell_type": "code",
   "execution_count": 12,
   "id": "9be430ab-bf79-454a-ba04-590a3212ec61",
   "metadata": {},
   "outputs": [],
   "source": [
    "\"\"\" define cosmological parameters for equivalent linear theory \"\"\"\n",
    "\n",
    "cosmo1 = np.zeros((3,3) , dtype=object)\n",
    "\n",
    "for i in range(len(cosmo1)):\n",
    "    for j in range(len(cosmo1[0])):\n",
    "        cosmo1[i][j] = ccl.Cosmology(Omega_c = 0.23, # + (0.04 * i), \n",
    "                      Omega_b = 0.045, \n",
    "                      h = 0.67, \n",
    "                      n_s = 0.7 + (0.15 * i),\n",
    "                      sigma8 = 0.7 + 0.25 * j, \n",
    "                      transfer_function='bbks',\n",
    "                      matter_power_spectrum='linear')\n",
    "cosmo1 = np.append(np.append(cosmo1[0] , cosmo1[1]) , cosmo1[2])\n"
   ]
  },
  {
   "cell_type": "code",
   "execution_count": null,
   "id": "48bff16f-ff3a-42f4-bae3-f7e9b8a63555",
   "metadata": {},
   "outputs": [],
   "source": [
    "\"\"\" Finding C_ell_array (our training data) - defining function \"\"\"\n",
    "\n",
    "def findC_ell_array(ell_min, ell_max, ell_bin_num, cosmo, z, Binned_distribution):\n",
    "    \n",
    "    #find ell arrays and empty arrays\n",
    "    \n",
    "    ell = np.arange(ell_min, ell_max)\n",
    "    C_ell = np.zeros((len(cosmo),len(Binned_distribution), len(Binned_distribution), len(ell)))\n",
    "    \n",
    "    # define quantities for binning C_ell\n",
    "    \n",
    "    C_ell_array = []\n",
    "    \n",
    "    ell_binned_limits = np.logspace(np.log10(ell_min),np.log10(ell_max),num=ell_bin_num + 1)\n",
    "    bin_edge1 = ell_binned_limits[:-1]\n",
    "    bin_edge2 = ell_binned_limits[1:]\n",
    "    ell_binned = (bin_edge1 + bin_edge2) / 2\n",
    "    \n",
    "    longell = []\n",
    "    for i in range(int(len(cosmo)*((len(Binned_distribution) + 1) * len(Binned_distribution) / 2))):\n",
    "        longell = np.append(longell, ell_binned)\n",
    "\n",
    "    # find C_ell for a range of ells, then bin these to find C_ell_array \n",
    "\n",
    "    #Note: this gives list of C_ell[i][j][k][ell]: ith cosmology, cross correlated over jth and kth binned redshift \n",
    "    #      distribution for each binned value of ell. \n",
    "\n",
    "    for i in range(len(cosmo)):\n",
    "        for j in range(len(Binned_distribution)):\n",
    "            for k in range(len(Binned_distribution)):\n",
    "                if k > j:\n",
    "                    break\n",
    "                tracer1 = ccl.WeakLensingTracer(cosmo[i], dndz=(z, Binned_distribution[j])) # TODO normalization\n",
    "                tracer2 = ccl.WeakLensingTracer(cosmo[i], dndz=(z, Binned_distribution[k]))\n",
    "                C_ell[i][j][k] = ccl.angular_cl(cosmo[i], tracer1, tracer2, ell)            # uses non-linear matter power spectrum stored in `cosmo`\n",
    "            \n",
    "                # bin ell\n",
    "                bin_means, bin_edges, binnumber = scipy.stats.binned_statistic(ell, C_ell[i][j][k], statistic='mean', \n",
    "                                                                               bins= ell_binned_limits)\n",
    "    \n",
    "                C_ell_array = np.append(C_ell_array, bin_means)\n",
    "    return longell, C_ell_array"
   ]
  },
  {
   "cell_type": "code",
   "execution_count": null,
   "id": "5dcd2a89-e79e-40b8-ac6d-a034dc9b1ebc",
   "metadata": {},
   "outputs": [],
   "source": [
    "# define ell and C_ell shapes \n",
    "\n",
    "ell_min = 2\n",
    "ell_max = 2060\n",
    "\n",
    "# define quantities for binning of ell\n",
    "\n",
    "ell_bin_num = 18\n",
    "\n",
    "C_ell_data = findC_ell_array(ell_min, ell_max, ell_bin_num, cosmo, z, Binned_distribution)\n"
   ]
  },
  {
   "cell_type": "code",
   "execution_count": 6,
   "id": "624d9965-9a05-4dea-8618-78ee55d6c68e",
   "metadata": {},
   "outputs": [
    {
     "name": "stdout",
     "output_type": "stream",
     "text": [
      "0.9993590255745917\n"
     ]
    }
   ],
   "source": [
    "# create an angular shear C_ell manually with our functions above\n",
    "# Note: define ell from github \n",
    "# np.seterr(divide='ignore', invalid='ignore') -- in integrals ignores bits when/0\n",
    "\n",
    "ell = np.arange(2, 2000)\n",
    "delta_ell = ell[1] - ell[0]\n",
    "z = np.linspace(0.001, 4., int(1e4))                                     # z =/= 0 otherwise get inf when calculating chi\n",
    "\n",
    "print(scipy.integrate.simps(redshiftdist(z), z))                         # To check whether p(z) is normalized\n",
    "\n",
    "# calculate C_ell\n",
    "manualdata = findC_ell(cosmo,c,ell,z)"
   ]
  },
  {
   "cell_type": "code",
   "execution_count": 7,
   "id": "27108d9e-a7c7-4de9-8e5b-c178a9ca9690",
   "metadata": {},
   "outputs": [],
   "source": [
    "# calculate C_ell_linear\n",
    "\n",
    "manualdata_linear = findC_ell_linear(cosmo1,c,ell,z)"
   ]
  },
  {
   "cell_type": "code",
   "execution_count": 8,
   "id": "9ea4916a-e904-4f32-b096-486616f7c278",
   "metadata": {},
   "outputs": [],
   "source": [
    "#create an angular shear C_ell with pyccl from github (non-linear and linear)\n",
    "\n",
    "i_lim = 26.                                                              # Limiting i-band magnitude\n",
    "z0 = 0.0417 * i_lim - 0.744\n",
    "Ngal = 46. * 100.31 * (i_lim - 25.)                                      # Normalisation, galaxies/arcmin^2\n",
    "pz = 1. / (2. * z0) * (z / z0)**2. * np.exp(-z / z0)                     # Redshift distribution, p(z)\n",
    "dNdz = Ngal * pz                                                         # Number density distribution\n",
    "#why are they normalizing with Ngal? Tracer renormalizes to 1 anyways\n",
    "\n",
    "tracer1 = ccl.WeakLensingTracer(cosmo, dndz=(z, dNdz))\n",
    "tracer2 = ccl.WeakLensingTracer(cosmo, dndz=(z, dNdz))\n",
    "data    = ccl.angular_cl(cosmo, tracer1, tracer2, ell)                   # C_ell - uses non-linear matter power spectrum stored in `cosmo`\n",
    "\n",
    "data_linear = ccl.angular_cl(cosmo1, tracer1, tracer2, ell)"
   ]
  },
  {
   "cell_type": "code",
   "execution_count": 9,
   "id": "943cd671-1033-4240-b1d2-5c0c4e678066",
   "metadata": {},
   "outputs": [
    {
     "data": {
      "image/png": "[encoded data removed]",
      "text/plain": [
       "<Figure size 640x480 with 1 Axes>"
      ]
     },
     "metadata": {},
     "output_type": "display_data"
    }
   ],
   "source": [
    "# Plots of C_ell\n",
    "\n",
    "plt.plot(ell, data, \"b\", linewidth=10, label = \"non-linear ccl\")\n",
    "\n",
    "plt.plot(ell, data_linear, \"g\", linewidth=10, label = \"linear ccl\")\n",
    "\n",
    "plt.plot(ell, manualdata_linear, \"yellow\", label = \"linear manually computed\")\n",
    "\n",
    "plt.plot(ell,manualdata, \"r\", label = \"non-linear manually computed\")\n",
    "\n",
    "#plt.plot(ell, data/manualdata)\n",
    "\n",
    "plt.xscale('log')\n",
    "plt.yscale('log')\n",
    "plt.xlabel(r'$\\ell$')\n",
    "plt.ylabel(r'$C_\\ell$')\n",
    "plt.legend()\n",
    "plt.show()\n",
    "\n",
    "#Note: low ell values differ because I'm using liber approximation (only works for high ell?)"
   ]
  },
  {
   "cell_type": "code",
   "execution_count": 10,
   "id": "f485647c-ce14-413c-b760-37faf2f523bf",
   "metadata": {},
   "outputs": [
    {
     "name": "stdout",
     "output_type": "stream",
     "text": [
      "chi_max =  13946.40834035793\n"
     ]
    }
   ],
   "source": [
    "print(\"chi_max = \", ccl.comoving_radial_distance(cosmo,1/(1+1090.3)))"
   ]
  },
  {
   "cell_type": "code",
   "execution_count": null,
   "id": "32a0d6ac",
   "metadata": {},
   "outputs": [],
   "source": []
  },
  {
   "cell_type": "code",
   "execution_count": null,
   "id": "1bfe5cea",
   "metadata": {},
   "outputs": [],
   "source": []
  }
 ],
 "metadata": {
  "kernelspec": {
   "display_name": "Python 3 (ipykernel)",
   "language": "python",
   "name": "python3"
  },
  "language_info": {
   "codemirror_mode": {
    "name": "ipython",
    "version": 3
   },
   "file_extension": ".py",
   "mimetype": "text/x-python",
   "name": "python",
   "nbconvert_exporter": "python",
   "pygments_lexer": "ipython3",
   "version": "3.9.12"
  }
 },
 "nbformat": 4,
 "nbformat_minor": 5
}
