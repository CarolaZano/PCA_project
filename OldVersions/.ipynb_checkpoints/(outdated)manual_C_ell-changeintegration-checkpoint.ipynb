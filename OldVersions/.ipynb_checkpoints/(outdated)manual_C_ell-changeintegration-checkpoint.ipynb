{
 "cells": [
  {
   "cell_type": "markdown",
   "id": "37c49832-465f-4515-aca8-a78e7ee966b8",
   "metadata": {},
   "source": [
    "## Computing lensing C_ell(ell) for reasonable redshift distribution of sources and parameter values\n"
   ]
  },
  {
   "cell_type": "markdown",
   "id": "7e97cf7a-4a39-4d1e-ad53-15afb8c07ec5",
   "metadata": {},
   "source": [
    "To get started with computing and also understanding the C_ells: once you have CCL installed, try to use it to compute and plot lensing C_ell as a function of ell for any reasonable redshift distribution of sources and any reasonable parameter values (combining equation 16 and equation 5 in the first paper above by Krause et al.). Use CCL to get the basic building blocks of this like the matter power spectrum and comoving distances, but don't just use the functionality to directly get the C_ells, do the integration numerically yourself using numpy / scipy. You should however use the built in CCL functionality to check you're getting it right and debug. You can find examples for using CCL that will help here: https://github.com/LSSTDESC/CCLX (you can also steal a redshift distribution to use from where they construct one in those examples notebooks)."
   ]
  },
  {
   "cell_type": "markdown",
   "id": "de539f05-a968-4f17-b968-dd77e7cb4ac5",
   "metadata": {},
   "source": [
    "Eq 1: $C^{ij}_{\\mathcal{A}\\mathcal{B}}(\\ell) = \\int d\\chi \\frac{W^{i}_{\\mathcal{A}}(\\chi)W^{j}_{\\mathcal{B}}(\\chi) }{\\chi^2}P_{\\mathcal{A}\\mathcal{B}} ( k = \\frac{\\ell + 0.5}{\\chi}, z) $"
   ]
  },
  {
   "cell_type": "markdown",
   "id": "0bf687d4-6029-4c84-ac4a-71c200c619a7",
   "metadata": {},
   "source": [
    "Where:\n",
    "- i,j denote redshift bins\n",
    "- Subscripts $\\mathcal{A}\\mathcal{B} \\in \\{\\delta_g, \\kappa\\}$ stand for specific E- and B- modes (kappa) or for specific observed galaxy number densities (delta)\n",
    "- C is the angular power spectrum\n",
    "- $P_{\\delta}$ is three-dimensional matter power spectrum\n",
    "- $\\chi$ is comoving distance"
   ]
  },
  {
   "cell_type": "markdown",
   "id": "201715f0-2044-4fe8-8261-77472301be5a",
   "metadata": {},
   "source": [
    "Eq 4: $W^{i}_{\\kappa,g}(\\chi) = \\frac{3\\Omega_{m}H_{0}^{2}}{2c^2} \\int_{\\chi}^{\\infty}d\\chi'n^{i}_{g}(\\chi')\\frac{\\chi}{a(\\chi)}\\frac{\\chi' - \\chi}{\\chi'}$\n",
    "\n",
    "Where W is the tomographic lens efficiency"
   ]
  },
  {
   "cell_type": "markdown",
   "id": "c29d8f28-97bf-4d19-be13-c47e2d0489bd",
   "metadata": {},
   "source": [
    "We are looking for shear power spectra, so:\n",
    "\n",
    "$C^{ij}_{EE}(\\ell) = C^{ij}_{\\kappa_s\\kappa_s}(\\ell) + C^{ij}_{\\kappa_s I_E}(\\ell) + C^{ji}_{\\kappa_s I_E}(\\ell) + C^{ij}_{I_E I_E}(\\ell)$\n",
    "\n",
    "or \n",
    "\n",
    "$C^{ij}_{BB}(\\ell) = C^{ij}_{I_B I_B}(\\ell)$\n",
    "\n",
    "$I_{E/B}$ stand for the E/B mode decomposition of IA, and we will ignore these components for our analysis.\n",
    "$\\kappa_s$ stands for the tomographic convergence field of the source galaxy (?)"
   ]
  },
  {
   "cell_type": "code",
   "execution_count": null,
   "id": "6a278229",
   "metadata": {},
   "outputs": [],
   "source": [
    "# defining all functions to find C_ell\n",
    "\n",
    "# define the reasonable redshift distribution from github\n",
    "def redshiftdist(z):                                                       \n",
    "    i_lim = 26.                                                            # Limiting i-band magnitude\n",
    "    z0 = 0.0417 * i_lim - 0.744\n",
    "    pz = 1. / (2. * z0) * (z / z0)**2. * np.exp(-z / z0)                   # Redshift distribution, p(z)\n",
    "    return pz                                                              # to check for normalized pz print(scipy.integrate.simps(pz, z))\n",
    "\n",
    "# solves equation 4\n",
    "# note: z here is an array not a single value. returns array\n",
    "\n",
    "def integrandWkg(x,cosmo,chiz,a):\n",
    "    ax = 1/(1 + x)\n",
    "    chix = ccl.comoving_radial_distance(cosmo,ax)\n",
    "    dchidx = c/(H0*ccl.h_over_h0(cosmo,ax))\n",
    "    px = redshiftdist(x)\n",
    "    integrand = dchidx*px*chiz*(chix - chiz)/(a*chix)\n",
    "    return integrand\n",
    "\n",
    "def Wkappag(z, Omega_m, H0, c, cosmo):\n",
    "    zmax = 1090.3                                                          # z at horizon from Planck 2018\n",
    "    a = 1/(1 + z)\n",
    "    chiz = ccl.comoving_radial_distance(cosmo,a)                           # units of Mpc\n",
    "    y,err = scipy.integrate.quad(integrandWkg, z, zmax, args=(cosmo,chiz, a))\n",
    "    Wkg = y*3*Omega_m*(H0**2)/(2*c**2)\n",
    "    return Wkg\n",
    "\n",
    "# function that finds C for a given  ell, z. A, B, i, j can be changed by manually changing quantities in the function\n",
    "# Note: if we assume \\LambdaCDM cosmology (or some cosmology) don't need function h_over_h0. \n",
    "# Can find chi(z) and z(chi) manually\n",
    "\n",
    "def integrandC_ell(z,cosmo,H0,c,Omega_m,ell):\n",
    "    a = 1/(1 + z)\n",
    "    chiz = ccl.comoving_radial_distance(cosmo,a)\n",
    "    dchidz = c/(H0*ccl.h_over_h0(cosmo,a))\n",
    "    Wkg = Wkappag(z, Omega_m, H0, c, cosmo)                               # find tomographic lens efficiency\n",
    "    \n",
    "    MatterPowerSpec_lz = ccl.power.nonlin_matter_power(cosmo, (ell + 0.5)/chiz , z)\n",
    "    MatterPowerSpec_lz = np.transpose(MatterPowerSpec_lz)\n",
    "    \n",
    "    integrand = dchidz*Wkg*Wkg*MatterPowerSpec_lz/(chiz**2)\n",
    "    return integrand\n",
    "\n",
    "def findC_ell(cosmo,H0,c,Omega_m,ell,z,bz):\n",
    "                                                                          # find C_ell\n",
    "    C_ell = np.zeros(len(ell))\n",
    "    for i in range(len(ell)):\n",
    "        C_ell[i] = scipy.integrate.quad(integrandC_ell, 0.001, 5, args= (cosmo,H0,c,Omega_m,ell[i]))\n",
    "    return C_ell"
   ]
  },
  {
   "cell_type": "code",
   "execution_count": null,
   "id": "c7130efd-63a9-4d8a-8a1c-e0c34c246d3f",
   "metadata": {},
   "outputs": [],
   "source": [
    "#bits of the code come from CCLX/Example MCMC analysis on GitHub\n",
    "\n",
    "import emcee\n",
    "import matplotlib.pyplot as plt \n",
    "import pyccl as ccl\n",
    "import numpy as np\n",
    "import scipy\n",
    "%matplotlib inline\n",
    "\n",
    "# for nicer plots http://seaborn.pydata.org -- optional\n",
    "# if you don't want to use it, you can comment this and the next line\n",
    "\n",
    "import seaborn as sns; sns.set_style('darkgrid')\n",
    "sns.set_context(\"talk\")"
   ]
  },
  {
   "cell_type": "markdown",
   "id": "be8bffb8-0420-4868-835d-1c69c50f672c",
   "metadata": {
    "tags": []
   },
   "source": [
    "# Program starts here"
   ]
  },
  {
   "cell_type": "code",
   "execution_count": null,
   "id": "be7217fc-8de0-408f-b119-036ee259dbfc",
   "metadata": {},
   "outputs": [],
   "source": [
    "# define cosmological parameters\n",
    "cosmo = ccl.Cosmology(Omega_c=0.27, \n",
    "                      Omega_b=0.045, \n",
    "                      h=0.67, \n",
    "                      n_s=0.96,  \n",
    "                      sigma8=0.83, \n",
    "                      transfer_function='bbks')\n",
    "\n",
    "# Note: find way of extracting these params directly from cosmo\n",
    "c = 3e5                                                                  # km/s\n",
    "H0 = 0.67e2                                                              # km/s/Mpcs\n",
    "Omega_m = 0.27 + 0.045 "
   ]
  },
  {
   "cell_type": "code",
   "execution_count": null,
   "id": "624d9965-9a05-4dea-8618-78ee55d6c68e",
   "metadata": {},
   "outputs": [
    {
     "ename": "ValueError",
     "evalue": "The truth value of an array with more than one element is ambiguous. Use a.any() or a.all()",
     "output_type": "error",
     "traceback": [
      "\u001b[0;31m---------------------------------------------------------------------------\u001b[0m",
      "\u001b[0;31mValueError\u001b[0m                                Traceback (most recent call last)",
      "Cell \u001b[0;32mIn [6], line 13\u001b[0m\n\u001b[1;32m     10\u001b[0m bz \u001b[38;5;241m=\u001b[39m np\u001b[38;5;241m.\u001b[39mones_like(z)\n\u001b[1;32m     12\u001b[0m \u001b[38;5;66;03m# calculate C_ell\u001b[39;00m\n\u001b[0;32m---> 13\u001b[0m manualdata \u001b[38;5;241m=\u001b[39m findC_ell(cosmo,H0,c,Omega_m,ell,z)\n",
      "Cell \u001b[0;32mIn [1], line 38\u001b[0m, in \u001b[0;36mfindC_ell\u001b[0;34m(cosmo, H0, c, Omega_m, ell, z)\u001b[0m\n\u001b[1;32m     36\u001b[0m chiz \u001b[38;5;241m=\u001b[39m ccl\u001b[38;5;241m.\u001b[39mcomoving_radial_distance(cosmo,a)\n\u001b[1;32m     37\u001b[0m dchidz \u001b[38;5;241m=\u001b[39m c\u001b[38;5;241m/\u001b[39m(H0\u001b[38;5;241m*\u001b[39mccl\u001b[38;5;241m.\u001b[39mh_over_h0(cosmo,a))\n\u001b[0;32m---> 38\u001b[0m Wkg \u001b[38;5;241m=\u001b[39m \u001b[43mWkappag\u001b[49m\u001b[43m(\u001b[49m\u001b[43mz\u001b[49m\u001b[43m,\u001b[49m\u001b[43m \u001b[49m\u001b[43mOmega_m\u001b[49m\u001b[43m,\u001b[49m\u001b[43m \u001b[49m\u001b[43mH0\u001b[49m\u001b[43m,\u001b[49m\u001b[43m \u001b[49m\u001b[43mc\u001b[49m\u001b[43m,\u001b[49m\u001b[43m \u001b[49m\u001b[43mcosmo\u001b[49m\u001b[43m)\u001b[49m                               \u001b[38;5;66;03m# find tomographic lens efficiency\u001b[39;00m\n\u001b[1;32m     39\u001b[0m                                                                       \u001b[38;5;66;03m# find matter power spectrum\u001b[39;00m\n\u001b[1;32m     40\u001b[0m MatterPowerSpec_lz \u001b[38;5;241m=\u001b[39m np\u001b[38;5;241m.\u001b[39mzeros((\u001b[38;5;28mlen\u001b[39m(z),\u001b[38;5;28mlen\u001b[39m(ell)))\n",
      "Cell \u001b[0;32mIn [1], line 25\u001b[0m, in \u001b[0;36mWkappag\u001b[0;34m(z, Omega_m, H0, c, cosmo)\u001b[0m\n\u001b[1;32m     23\u001b[0m a \u001b[38;5;241m=\u001b[39m \u001b[38;5;241m1\u001b[39m\u001b[38;5;241m/\u001b[39m(\u001b[38;5;241m1\u001b[39m \u001b[38;5;241m+\u001b[39m z)\n\u001b[1;32m     24\u001b[0m chiz \u001b[38;5;241m=\u001b[39m ccl\u001b[38;5;241m.\u001b[39mcomoving_radial_distance(cosmo,a)                           \u001b[38;5;66;03m# units of Mpc\u001b[39;00m\n\u001b[0;32m---> 25\u001b[0m y,err \u001b[38;5;241m=\u001b[39m \u001b[43mscipy\u001b[49m\u001b[38;5;241;43m.\u001b[39;49m\u001b[43mintegrate\u001b[49m\u001b[38;5;241;43m.\u001b[39;49m\u001b[43mquad\u001b[49m\u001b[43m(\u001b[49m\u001b[43mintegrandWkg\u001b[49m\u001b[43m,\u001b[49m\u001b[43m \u001b[49m\u001b[43mz\u001b[49m\u001b[43m,\u001b[49m\u001b[43m \u001b[49m\u001b[43mzmax\u001b[49m\u001b[43m,\u001b[49m\u001b[43m \u001b[49m\u001b[43margs\u001b[49m\u001b[38;5;241;43m=\u001b[39;49m\u001b[43m(\u001b[49m\u001b[43mcosmo\u001b[49m\u001b[43m,\u001b[49m\u001b[43mchiz\u001b[49m\u001b[43m,\u001b[49m\u001b[43m \u001b[49m\u001b[43ma\u001b[49m\u001b[43m)\u001b[49m\u001b[43m)\u001b[49m\n\u001b[1;32m     26\u001b[0m Wkg \u001b[38;5;241m=\u001b[39m y\u001b[38;5;241m*\u001b[39m\u001b[38;5;241m3\u001b[39m\u001b[38;5;241m*\u001b[39mOmega_m\u001b[38;5;241m*\u001b[39m(H0\u001b[38;5;241m*\u001b[39m\u001b[38;5;241m*\u001b[39m\u001b[38;5;241m2\u001b[39m)\u001b[38;5;241m/\u001b[39m(\u001b[38;5;241m2\u001b[39m\u001b[38;5;241m*\u001b[39mc\u001b[38;5;241m*\u001b[39m\u001b[38;5;241m*\u001b[39m\u001b[38;5;241m2\u001b[39m)\n\u001b[1;32m     27\u001b[0m \u001b[38;5;28;01mreturn\u001b[39;00m Wkg\n",
      "File \u001b[0;32m/nobackup/c2042999/miniconda3/lib/python3.9/site-packages/scipy/integrate/_quadpack_py.py:348\u001b[0m, in \u001b[0;36mquad\u001b[0;34m(func, a, b, args, full_output, epsabs, epsrel, limit, points, weight, wvar, wopts, maxp1, limlst)\u001b[0m\n\u001b[1;32m    345\u001b[0m     args \u001b[38;5;241m=\u001b[39m (args,)\n\u001b[1;32m    347\u001b[0m \u001b[38;5;66;03m# check the limits of integration: \\int_a^b, expect a < b\u001b[39;00m\n\u001b[0;32m--> 348\u001b[0m flip, a, b \u001b[38;5;241m=\u001b[39m b \u001b[38;5;241m<\u001b[39m a, \u001b[38;5;28;43mmin\u001b[39;49m\u001b[43m(\u001b[49m\u001b[43ma\u001b[49m\u001b[43m,\u001b[49m\u001b[43m \u001b[49m\u001b[43mb\u001b[49m\u001b[43m)\u001b[49m, \u001b[38;5;28mmax\u001b[39m(a, b)\n\u001b[1;32m    350\u001b[0m \u001b[38;5;28;01mif\u001b[39;00m weight \u001b[38;5;129;01mis\u001b[39;00m \u001b[38;5;28;01mNone\u001b[39;00m:\n\u001b[1;32m    351\u001b[0m     retval \u001b[38;5;241m=\u001b[39m _quad(func, a, b, args, full_output, epsabs, epsrel, limit,\n\u001b[1;32m    352\u001b[0m                    points)\n",
      "\u001b[0;31mValueError\u001b[0m: The truth value of an array with more than one element is ambiguous. Use a.any() or a.all()"
     ]
    }
   ],
   "source": [
    "# create an angular shear C_ell manually with our functions above\n",
    "# Note: define ell from github \n",
    "# np.seterr(divide='ignore', invalid='ignore') -- in integrals ignores bits when/0\n",
    "\n",
    "ell = np.arange(2, 2000)\n",
    "delta_ell = ell[1] - ell[0]\n",
    "z = np.linspace(0.001, 3., int(1e4))                                     # z =/= 0 otherwise get inf when calculating chi\n",
    "\n",
    "# define bias distribution - assume no galaxy bias (b^i = 1)\n",
    "bz = np.ones_like(z)\n",
    "\n",
    "# calculate C_ell\n",
    "manualdata = findC_ell(cosmo,H0,c,Omega_m,ell,z,bz)"
   ]
  },
  {
   "cell_type": "code",
   "execution_count": null,
   "id": "9ea4916a-e904-4f32-b096-486616f7c278",
   "metadata": {},
   "outputs": [],
   "source": [
    "#create an angular shear C_ell with pyccl from github\n",
    "\n",
    "i_lim = 26.                                                              # Limiting i-band magnitude\n",
    "z0 = 0.0417 * i_lim - 0.744\n",
    "Ngal = 46. * 100.31 * (i_lim - 25.)                                      # Normalisation, galaxies/arcmin^2\n",
    "pz = 1. / (2. * z0) * (z / z0)**2. * np.exp(-z / z0)                     # Redshift distribution, p(z)\n",
    "dNdz = Ngal * pz                                                         # Number density distribution\n",
    "\n",
    "tracer1 = ccl.WeakLensingTracer(cosmo, dndz=(z, dNdz))\n",
    "tracer2 = ccl.WeakLensingTracer(cosmo, dndz=(z, dNdz))\n",
    "data    = ccl.angular_cl(cosmo, tracer1, tracer2, ell)                   # C_ell - uses non-linear matter power spectrum stored in `cosmo`"
   ]
  },
  {
   "cell_type": "code",
   "execution_count": null,
   "id": "943cd671-1033-4240-b1d2-5c0c4e678066",
   "metadata": {},
   "outputs": [],
   "source": [
    "# Plots of C_ell\n",
    "\n",
    "plt.plot(ell, data, \"b\")\n",
    "\n",
    "plt.plot(ell,manualdata, \"r\")\n",
    "plt.xscale('log')\n",
    "plt.yscale('log')\n",
    "plt.xlabel(r'$\\ell$')\n",
    "plt.ylabel(r'$C_\\ell$')\n",
    "plt.show()"
   ]
  },
  {
   "cell_type": "code",
   "execution_count": null,
   "id": "f485647c-ce14-413c-b760-37faf2f523bf",
   "metadata": {},
   "outputs": [
    {
     "name": "stdout",
     "output_type": "stream",
     "text": [
      "chi_h =  4477.611940298508\n",
      "chi_max =  6543.4031147575815\n",
      "a_h =  0.4025993859593187\n",
      "z_h =  1.4838587312228206\n"
     ]
    }
   ],
   "source": [
    "print(\"chi_h = \", c/H0)\n",
    "print(\"chi_max = \", ccl.comoving_radial_distance(cosmo,1/(1+3)))\n",
    "print(\"a_h = \", ccl.scale_factor_of_chi(cosmo, c/H0))\n",
    "print(\"z_h = \", 1/ccl.scale_factor_of_chi(cosmo, c/H0) -1)"
   ]
  },
  {
   "cell_type": "code",
   "execution_count": null,
   "id": "32a0d6ac",
   "metadata": {},
   "outputs": [],
   "source": []
  },
  {
   "cell_type": "code",
   "execution_count": null,
   "id": "1bfe5cea",
   "metadata": {},
   "outputs": [],
   "source": []
  },
  {
   "cell_type": "markdown",
   "id": "4bd89793",
   "metadata": {},
   "source": [
    "- (Not useful now) q are the radial weight functions:\n",
    "\n",
    "Eq 2: $q^i_\\kappa (\\chi) = \\frac{3H_0^2 \\Omega_m \\chi}{2a(\\chi)} \\int^{\\chi_h}_\\chi d\\chi' \\frac{\\chi' - \\chi}{\\chi} n^i_\\kappa (z(\\chi')) \\frac{dz}{d\\chi'}$\n",
    "\n",
    "Eq 3: $q^i_{\\delta_g} (\\chi) = b^i n^i_\\delta (z(\\chi)) \\frac{dz}{d\\chi}$\n",
    "\n"
   ]
  },
  {
   "cell_type": "code",
   "execution_count": null,
   "id": "432333ea",
   "metadata": {},
   "outputs": [],
   "source": [
    "# bits of code I don't use now\n",
    "\n",
    "# solves equation 2\n",
    "# z is a single value not an array\n",
    "def qkappaz(z, cosmo, c, H0, Omega_m):\n",
    "    #define useful quantities for integral\n",
    "    a = 1/(1 + z)\n",
    "    chiz = ccl.comoving_radial_distance(cosmo,a)\n",
    "    zh = 1/ccl.scale_factor_of_chi(cosmo, c/H0) - 1\n",
    "    pz =  redshiftdist(z)\n",
    "    \n",
    "    #find integral\n",
    "    x = np.linspace(0.01,zh,int(1e4)) #variable we integrate over\n",
    "    chix = ccl.comoving_radial_distance(cosmo,1/(1 + x))\n",
    "    integrand = pz*(chix - chiz)/chiz\n",
    "    I = scipy.integrate.simps(integrand, x)\n",
    "    qk = I*3*(H0**2)*Omega_m*chiz/(2*a*chiz)\n",
    "    return qk\n",
    "\n",
    "#solves equation 3\n",
    "#z is a single value not an array\n",
    "def qdelgz(z, cosmo, c, H0, Omega_m, bz):\n",
    "    pz = redshiftdist(z)\n",
    "    a = 1/(1 + z)\n",
    "    qd = ccl.h_over_h0(cosmo,a)*pz*bz*H0/c\n",
    "    return qd"
   ]
  }
 ],
 "metadata": {
  "kernelspec": {
   "display_name": "Python 3 (ipykernel)",
   "language": "python",
   "name": "python3"
  },
  "language_info": {
   "codemirror_mode": {
    "name": "ipython",
    "version": 3
   },
   "file_extension": ".py",
   "mimetype": "text/x-python",
   "name": "python",
   "nbconvert_exporter": "python",
   "pygments_lexer": "ipython3",
   "version": "3.9.12"
  }
 },
 "nbformat": 4,
 "nbformat_minor": 5
}
