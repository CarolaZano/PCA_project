{
 "cells": [
  {
   "cell_type": "markdown",
   "metadata": {},
   "source": [
    "# Main"
   ]
  },
  {
   "cell_type": "code",
   "execution_count": 1,
   "metadata": {},
   "outputs": [],
   "source": [
    "##########################################################################\n",
    "import os\n",
    "\n",
    "# set the environment variable to control the number of threads\n",
    "# NEEDS TO BE DONE BEFORE CCL IS IMPORTED\n",
    "original_omp_num_threads = os.environ.get('OMP_NUM_THREADS', None)\n",
    "os.environ['OMP_NUM_THREADS'] = '1'\n",
    "\n",
    "# Generic\n",
    "import pandas as pd\n",
    "import numpy as np\n",
    "import scipy\n",
    "from itertools import islice, cycle\n",
    "import math\n",
    "import sys\n",
    "from scipy.integrate import odeint\n",
    "from joblib import Parallel, delayed\n",
    "import itertools\n",
    "from importlib import reload\n",
    "from functools import lru_cache\n",
    "import scipy.integrate\n",
    "\n",
    "# cosmology\n",
    "import pyccl as ccl\n",
    "from astropy.io import fits\n",
    "import yaml\n",
    "import sacc\n",
    "import time\n",
    "\n",
    "# covariance - Charlie's version of TJPCov\n",
    "MODULE_PATH = \"/home/c2042999/TJPCov/tjpcov/__init__.py\"\n",
    "MODULE_NAME = \"tjpcov\"\n",
    "import importlib\n",
    "spec = importlib.util.spec_from_file_location(MODULE_NAME, MODULE_PATH)\n",
    "module = importlib.util.module_from_spec(spec)\n",
    "sys.modules[spec.name] = module \n",
    "spec.loader.exec_module(module)\n",
    "from tjpcov.covariance_calculator import CovarianceCalculator\n",
    "\n",
    "# Generate data sets\n",
    "from sklearn.datasets import make_blobs\n",
    "import sklearn\n",
    "#print(sklearn.__version__) # should be 1.3.2\n",
    "\n",
    "# PCA\n",
    "from sklearn.preprocessing import StandardScaler\n",
    "from sklearn.decomposition import PCA\n",
    "\n",
    "# SRD Binning\n",
    "import srd_redshift_distributions as srd\n",
    "import binning\n",
    "\n",
    "# Data Visualization\n",
    "import matplotlib.pyplot as plt\n",
    "from tabulate import tabulate\n",
    "import matplotlib.patches as mpatches\n",
    "import matplotlib\n",
    "#import seaborn as sns\n",
    "\n",
    "# MCMC\n",
    "import emcee\n",
    "import matplotlib.pyplot as plt\n",
    "from scipy.optimize import minimize\n",
    "import corner\n",
    "from chainconsumer import ChainConsumer, Chain, make_sample\n",
    "from IPython.display import display, Math\n",
    "from multiprocessing import Pool, cpu_count\n",
    "from tqdm import tqdm\n",
    "\n",
    "# nDGP NL and lin Pk\n",
    "from nDGPemu import BoostPredictor\n",
    "\n",
    "# MGCAMB\n",
    "MODULE_PATH = \"/home/c2042999/MGCAMB/camb/__init__.py\"\n",
    "MODULE_NAME = \"MGCAMB\"\n",
    "import importlib\n",
    "spec = importlib.util.spec_from_file_location(MODULE_NAME, MODULE_PATH)\n",
    "module = importlib.util.module_from_spec(spec)\n",
    "sys.modules[spec.name] = module \n",
    "spec.loader.exec_module(module)\n",
    "from MGCAMB import camb\n",
    "\n",
    "# f(R) emu (eMANTIS)\n",
    "from emantis import FofrBoost\n",
    "\n",
    "# Initialise and emulator instance.\n",
    "emu_fR = FofrBoost()"
   ]
  },
  {
   "cell_type": "code",
   "execution_count": 2,
   "metadata": {},
   "outputs": [
    {
     "name": "stdout",
     "output_type": "stream",
     "text": [
      "3.1.6\n"
     ]
    }
   ],
   "source": [
    "print(emcee.__version__)"
   ]
  },
  {
   "cell_type": "code",
   "execution_count": 3,
   "metadata": {},
   "outputs": [
    {
     "name": "stdout",
     "output_type": "stream",
     "text": [
      "Loading model and related data\n"
     ]
    },
    {
     "name": "stderr",
     "output_type": "stream",
     "text": [
      "/home/c2042999/PCA_env/3.8.10/lib/python3.10/site-packages/sklearn/base.py:348: InconsistentVersionWarning: Trying to unpickle estimator MLPRegressor from version 0.24.2 when using version 1.3.2. This might lead to breaking code or invalid results. Use at your own risk. For more info please refer to:\n",
      "https://scikit-learn.org/stable/model_persistence.html#security-maintainability-limitations\n",
      "  warnings.warn(\n",
      "/home/c2042999/PCA_env/3.8.10/lib/python3.10/site-packages/sklearn/base.py:348: InconsistentVersionWarning: Trying to unpickle estimator PCA from version 0.24.2 when using version 1.3.2. This might lead to breaking code or invalid results. Use at your own risk. For more info please refer to:\n",
      "https://scikit-learn.org/stable/model_persistence.html#security-maintainability-limitations\n",
      "  warnings.warn(\n"
     ]
    }
   ],
   "source": [
    "from Likelihood_PCADR import *"
   ]
  },
  {
   "cell_type": "code",
   "execution_count": 4,
   "metadata": {},
   "outputs": [
    {
     "name": "stdout",
     "output_type": "stream",
     "text": [
      "Training the emulator at aexp=0.3333... done.\n",
      "Training the emulator at aexp=0.3650... done.\n",
      "Training the emulator at aexp=0.4000... done.\n",
      "Training the emulator at aexp=0.4167... done.\n",
      "Training the emulator at aexp=0.4444... done.\n",
      "Training the emulator at aexp=0.4762... done.\n",
      "Training the emulator at aexp=0.5000... done.\n",
      "Training the emulator at aexp=0.5263... done.\n",
      "Training the emulator at aexp=0.5556... done.\n",
      "Training the emulator at aexp=0.5882... done.\n",
      "Training the emulator at aexp=0.6250... done.\n",
      "Training the emulator at aexp=0.6667... done.\n",
      "Training the emulator at aexp=0.7042... done.\n",
      "Training the emulator at aexp=0.7692... done.\n",
      "Training the emulator at aexp=0.8000... done.\n",
      "Training the emulator at aexp=0.8696... done.\n",
      "Training the emulator at aexp=0.9091... done.\n",
      "Training the emulator at aexp=0.9524... done.\n",
      "Training the emulator at aexp=1.0000... done.\n"
     ]
    }
   ],
   "source": [
    "##########################################################################\n",
    "#### Train the emulators ####\n",
    "# Define the redshift interval and forecast years\n",
    "redshift_range = np.linspace(0.01, 3.5, 500)\n",
    "forecast_years = [\"1\", \"10\"]  # Assuming integers are appropriate\n",
    "\n",
    "# Create a dictionary to store the redshift distributions\n",
    "# for each forecast year and galaxy sample\n",
    "redshift_distribution = {\n",
    "    \"sources\": {},\n",
    "    \"lenses\": {}\n",
    "}\n",
    "\n",
    "for year in forecast_years:\n",
    "    source_dist = srd.SRDRedshiftDistributions(redshift_range, \n",
    "                                               galaxy_sample=\"source_sample\",\n",
    "                                               forecast_year=year)\n",
    "    lens_dist = srd.SRDRedshiftDistributions(redshift_range, \n",
    "                                             galaxy_sample=\"lens_sample\",\n",
    "                                             forecast_year=year)\n",
    "\n",
    "    redshift_distribution[\"sources\"][year] = source_dist.get_redshift_distribution(normalised=True,\n",
    "                                                                                   save_file=False)\n",
    "    redshift_distribution[\"lenses\"][year] = lens_dist.get_redshift_distribution(normalised=True,\n",
    "                                                                                save_file=False)\n",
    "\n",
    "# Uncomment to check if the dictionary is populated correctly\n",
    "# print(redshift_distribution[\"sources\"].keys())\n",
    "\n",
    "\n",
    "bins = {\n",
    "    \"sources\": {},\n",
    "    \"lenses\": {}\n",
    "}\n",
    "\n",
    "# Perform the binning procedure\n",
    "for year in forecast_years:\n",
    "    bins[\"sources\"][year] = binning.Binning(redshift_range, \n",
    "                                            redshift_distribution[\"sources\"][year],\n",
    "                                            year).source_bins(normalised=True,\n",
    "                                                              save_file=False)\n",
    "    bins[\"lenses\"][year] = binning.Binning(redshift_range, \n",
    "                                           redshift_distribution[\"lenses\"][year],\n",
    "                                           year).lens_bins(normalised=True,\n",
    "                                                           save_file=False)\n",
    "\n",
    "\n",
    "#(5, 256)\n",
    "Binned_distribution_lens = [list(bins[\"lenses\"][\"1\"].items())[0][1]]\n",
    "for i in range(4):\n",
    "    Binned_distribution_lens = np.append(Binned_distribution_lens,\\\n",
    "               [list(bins[\"lenses\"][\"1\"].items())[i+1][1]], axis=0)\n",
    "\n",
    "Binned_distribution_source = [list(bins[\"sources\"][\"1\"].items())[0][1]]\n",
    "for i in range(4):\n",
    "    Binned_distribution_source = np.append(Binned_distribution_source,\\\n",
    "               [list(bins[\"sources\"][\"1\"].items())[i+1][1]], axis=0)\n",
    "\n",
    "cosmo_test = ccl.Cosmology(Omega_c = 0.27, \n",
    "                          Omega_b = 0.046, \n",
    "                          h = 0.7, \n",
    "                          n_s = 0.974,\n",
    "                          A_s = 2.01e-9)\n",
    "\n",
    "Bias_distribution_fiducial = np.array([1.562362*np.ones(len(redshift_range)),\n",
    "                             1.732963*np.ones(len(redshift_range)),\n",
    "                             1.913252*np.ones(len(redshift_range)),\n",
    "                             2.100644*np.ones(len(redshift_range)),\n",
    "                             2.293210*np.ones(len(redshift_range))])\n",
    "\n",
    "binned_ell_test = bin_ell_kk(20, 1478.5, 13, Binned_distribution_source)\n",
    "\n",
    "mockdata_test = Cell(binned_ell_test, \\\n",
    "                cosmo_test, redshift_range , Binned_distribution_source,Binned_distribution_lens,Bias_distribution_fiducial,[0.2,1e-5,1,0,0],\\\n",
    "                Get_Pk2D_obj(cosmo_test, [0.2,1e-5,1,0,0], linear=False, gravity_model=\"f(R)\"),tracer1_type=\"k\", tracer2_type=\"k\")\n",
    "\n",
    "mockdata_test = Cell(binned_ell_test, \\\n",
    "                cosmo_test, redshift_range , Binned_distribution_source,Binned_distribution_lens,Bias_distribution_fiducial,[0.2,1e-5,1,0,0],\\\n",
    "                Get_Pk2D_obj(cosmo_test, [0.2,1e-5,1,0,0], linear=False, gravity_model=\"nDGP\"),tracer1_type=\"k\", tracer2_type=\"k\")\n"
   ]
  },
  {
   "cell_type": "code",
   "execution_count": 5,
   "metadata": {},
   "outputs": [],
   "source": [
    "# Define cosmology\n",
    "cosmo_universe = ccl.Cosmology(Omega_c = 0.269619, \n",
    "                          Omega_b = 0.050041,\n",
    "                          h = 0.6688,\n",
    "                          n_s = 0.9626,\n",
    "                          A_s = 2.092e-9)\n",
    "\n",
    "cosmo_universe_linear = ccl.Cosmology(Omega_c = 0.269619, \n",
    "                          Omega_b = 0.050041,\n",
    "                          h = 0.6688,\n",
    "                          n_s = 0.9626,\n",
    "                          A_s = 2.092e-9,\n",
    "                          matter_power_spectrum='linear')\n",
    "\n",
    "fR_universe = 3e-5\n",
    "H0rc_universe = 0.0\n",
    "MGParam_universe = [H0rc_universe,fR_universe,1,0,0]\n",
    "\n",
    "\n",
    "value1 = [cosmo_universe[\"Omega_c\"], 0.0, 0.0,cosmo_universe[\"A_s\"]*1e9, cosmo_universe[\"h\"],\\\n",
    "          cosmo_universe[\"n_s\"],cosmo_universe[\"Omega_b\"]*cosmo_universe[\"h\"]**2,\\\n",
    "         Bias_distribution_fiducial[0][0], Bias_distribution_fiducial[1][0],\\\n",
    "         Bias_distribution_fiducial[2][0],Bias_distribution_fiducial[3][0],\\\n",
    "         Bias_distribution_fiducial[4][0]]\n",
    "\n",
    "\n",
    "# Create the output directory\n",
    "mcmc_dir = \"/home/c2042999/PCA_project/Likelihood_estimation_3x2pt_fsigma8/mcmc\""
   ]
  },
  {
   "cell_type": "code",
   "execution_count": 6,
   "metadata": {},
   "outputs": [],
   "source": [
    "#### Define log likelihood #####\n",
    "def log_likelihood(theta, Data, L_ch_inv,Data_fsigma8):\n",
    "    Omega_c, mu0,Sigma0, A_s1e9, h, n_s, wb, b1, b2, b3, b4, b5 = theta\n",
    "\n",
    "    Bias_distribution = np.array([b1*np.ones(len(z)),\n",
    "                             b2*np.ones(len(z)),\n",
    "                             b3*np.ones(len(z)),\n",
    "                             b4*np.ones(len(z)),\n",
    "                             b5*np.ones(len(z))])\n",
    "    A_s = A_s1e9*1e-9\n",
    "    MGparams = [0.2,1e-4,1.0,mu0,Sigma0]\n",
    "\n",
    "    cosmo = ccl.Cosmology(Omega_c = Omega_c, \n",
    "                      Omega_b = wb/h**2,\n",
    "                      h = h,\n",
    "                      n_s = n_s,\n",
    "                      A_s = A_s)\n",
    "    \n",
    "    cosmo_linear = ccl.Cosmology(Omega_c = Omega_c, \n",
    "                      Omega_b = wb/h**2,\n",
    "                      h = h,\n",
    "                      n_s = n_s,\n",
    "                      A_s = A_s,\n",
    "                      matter_power_spectrum='linear')\n",
    "\n",
    "    return loglikelihood(Data, cosmo,cosmo_linear, MGparams, L_ch_inv,Bias_distribution,Data_fsigma8)\n",
    "\n",
    "#### Get Planck priors #####\n",
    "sampler_Planck_arr = np.load(\"/home/c2042999/PCA_project/Prior_Planck_arr.npy\")\n",
    "mu_prior = [cosmo_universe['n_s'], cosmo_universe[\"Omega_b\"]*cosmo_universe[\"h\"]**2]\n",
    "cov_prior = np.cov(sampler_Planck_arr.T)\n",
    "\n",
    "#### Define log prior #####\n",
    "def log_prior(theta):\n",
    "    Omega_c, mu0,Sigma0, A_s1e9, h, n_s, wb, b1, b2, b3, b4, b5 = theta \n",
    "\n",
    "    #flat priors\n",
    "    if not (0.28 < Omega_c + wb/h**2 < 0.36 and 0.0 < mu0 < 1.0 and -0.7 < Sigma0 < 0.7 \\\n",
    "            and 1.7 < A_s1e9 < 2.5 and 0.92 < n_s < 1 and 0.61 < h < 0.73 and 0.04 < wb/h**2 < 0.06 \\\n",
    "           and 0.8 < b1 < 3.0 and 0.8 < b2 < 3.0 and 0.8 < b3 < 3.0 and 0.8 < b4 < 3.0 and 0.8 < b5 < 3.0):\n",
    "        return -np.inf\n",
    "        \n",
    "    gauss_funct = scipy.stats.multivariate_normal(mu_prior, cov_prior)\n",
    "    \n",
    "    return gauss_funct.logpdf([n_s, wb])"
   ]
  },
  {
   "cell_type": "code",
   "execution_count": 7,
   "metadata": {
    "scrolled": true
   },
   "outputs": [
    {
     "name": "stderr",
     "output_type": "stream",
     "text": [
      "/tmp/ipykernel_1239479/3692788114.py:11: PendingDeprecationWarning: the matrix subclass is not the recommended way to represent matrices or deal with linear algebra (see https://docs.scipy.org/doc/numpy/user/numpy-for-matlab-users.html). Please adjust your code to use regular ndarray.\n",
      "  Data_fsigma8= [npzfile['z_eff_fsigma8'], npzfile['fsigma8_data'],np.matrix(npzfile['invcov_fsigma8'])]\n",
      "/tmp/ipykernel_1239479/3692788114.py:12: PendingDeprecationWarning: the matrix subclass is not the recommended way to represent matrices or deal with linear algebra (see https://docs.scipy.org/doc/numpy/user/numpy-for-matlab-users.html). Please adjust your code to use regular ndarray.\n",
      "  L_choleski_inv = np.matrix(npzfile['L_ch_inv'])\n",
      "/tmp/ipykernel_1239479/3692788114.py:14: PendingDeprecationWarning: the matrix subclass is not the recommended way to represent matrices or deal with linear algebra (see https://docs.scipy.org/doc/numpy/user/numpy-for-matlab-users.html). Please adjust your code to use regular ndarray.\n",
      "  gauss_invcov_rotated = np.matrix(npzfile['Inverse_cov'])\n"
     ]
    }
   ],
   "source": [
    "##### Load and collect the data for likelihood ###\n",
    "\n",
    "## Reload if needed\n",
    "#command = 'python Get_Data_3x2pt_fsigma8_MG.py --OmgC {} --OmgB {} --h {} --ns {} --As {} --gravity_flag \"f(R)\" --MG_param {}'.format(cosmo_universe[\"Omega_c\"],cosmo_universe[\"Omega_b\"],cosmo_universe[\"h\"], cosmo_universe[\"n_s\"],cosmo_universe[\"A_s\"],fR_universe)\n",
    "#os.system(command)\n",
    "## Collect the data\n",
    "npzfile = np.load(\"Data_storage.npz\")\n",
    "\n",
    "C_ell_data_mock = [npzfile['C_ell_data'],npzfile['ell_data'],npzfile['z'],npzfile['Binned_distribution_source'],\\\n",
    "                    npzfile['Binned_distribution_lens'],20,1478.5,13]\n",
    "Data_fsigma8= [npzfile['z_eff_fsigma8'], npzfile['fsigma8_data'],np.matrix(npzfile['invcov_fsigma8'])]\n",
    "L_choleski_inv = np.matrix(npzfile['L_ch_inv'])\n",
    "\n",
    "gauss_invcov_rotated = np.matrix(npzfile['Inverse_cov'])\n",
    "\n",
    "z = npzfile['z']"
   ]
  },
  {
   "cell_type": "markdown",
   "metadata": {
    "jp-MarkdownHeadingCollapsed": true
   },
   "source": [
    "## Tests"
   ]
  },
  {
   "cell_type": "code",
   "execution_count": 14,
   "metadata": {},
   "outputs": [
    {
     "data": {
      "image/png": "[encoded data removed]",
      "text/plain": [
       "<Figure size 640x480 with 1 Axes>"
      ]
     },
     "metadata": {},
     "output_type": "display_data"
    }
   ],
   "source": [
    "plt.scatter(npzfile['ell_data'],npzfile['C_ell_data'], color=\"r\", marker='x')\n",
    "\n",
    "for i in range(351):\n",
    "    if L_choleski_inv[0,i] !=0:\n",
    "        plt.scatter(npzfile['ell_data'][i],npzfile['C_ell_data'][i], color=\"k\", marker='.')\n",
    "\n",
    "plt.xscale(\"log\")\n",
    "plt.yscale(\"log\")"
   ]
  },
  {
   "cell_type": "code",
   "execution_count": 15,
   "metadata": {},
   "outputs": [
    {
     "name": "stdout",
     "output_type": "stream",
     "text": [
      "(351, 351)\n"
     ]
    },
    {
     "name": "stderr",
     "output_type": "stream",
     "text": [
      "/home/c2042999/PCA_project/Likelihood_estimation_3x2pt_fsigma8/Likelihood_PCADR.py:1438: RuntimeWarning: invalid value encountered in divide\n",
      "  return cov/np.outer(sig, sig)\n"
     ]
    },
    {
     "data": {
      "image/png": "[encoded data removed]",
      "text/plain": [
       "<Figure size 640x480 with 2 Axes>"
      ]
     },
     "metadata": {},
     "output_type": "display_data"
    }
   ],
   "source": [
    "print(gauss_invcov_rotated.shape)\n",
    "plt.imshow(cov2corr(gauss_invcov_rotated), origin='upper',  cmap='bwr')\n",
    "\n",
    "plt.colorbar()\n",
    "plt.show()"
   ]
  },
  {
   "cell_type": "code",
   "execution_count": 16,
   "metadata": {},
   "outputs": [
    {
     "data": {
      "text/plain": [
       "'Compare with v4 plot'"
      ]
     },
     "execution_count": 16,
     "metadata": {},
     "output_type": "execute_result"
    }
   ],
   "source": [
    "\"\"\"Compare with v4 plot\"\"\"\n",
    "#cut_1 = gauss_invcov_rotated[~np.all(gauss_invcov_rotated == 0, axis=1)]\n",
    "#plt.imshow(cov2corr(cut_1[:,~np.all(cut_1 == 0, axis=0)]), origin='upper',  cmap='bwr')\n",
    "\n",
    "#plt.colorbar()\n",
    "#plt.show()"
   ]
  },
  {
   "cell_type": "markdown",
   "metadata": {},
   "source": [
    "# Main"
   ]
  },
  {
   "cell_type": "code",
   "execution_count": 8,
   "metadata": {},
   "outputs": [],
   "source": [
    "## add C_ell_data_mock, L_choleski_inv, Data_fsigma8\n",
    "#### Define log probability #####\n",
    "def log_probability(theta):\n",
    "    lp = log_prior(theta)\n",
    "    if not np.isfinite(lp):\n",
    "        return -np.inf\n",
    "    return lp + log_likelihood(theta, C_ell_data_mock, L_choleski_inv,Data_fsigma8)"
   ]
  },
  {
   "cell_type": "code",
   "execution_count": null,
   "metadata": {
    "scrolled": true
   },
   "outputs": [
    {
     "name": "stdout",
     "output_type": "stream",
     "text": [
      "80\n",
      "40 12\n"
     ]
    },
    {
     "name": "stderr",
     "output_type": "stream",
     "text": [
      " 16%|█████████████████████████▋                                                                                                                                     | 484/3000 [4:31:02<23:08:38, 33.12s/it]"
     ]
    }
   ],
   "source": [
    "# Set the random seed for reproducibility\n",
    "np.random.seed(10)\n",
    "\n",
    "# Initialize the walkers\n",
    "Omega_c_est = 0.27\n",
    "h_est = 0.7\n",
    "A_s1e9_est = 2.1\n",
    "n_s_est = 0.96\n",
    "mu0_est = 0.1\n",
    "Sigma0_est = 0.05\n",
    "wb_est = 0.0223\n",
    "b1_est = Bias_distribution_fiducial[0][0]\n",
    "b2_est = Bias_distribution_fiducial[1][0]\n",
    "b3_est = Bias_distribution_fiducial[2][0]\n",
    "b4_est = Bias_distribution_fiducial[3][0]\n",
    "b5_est = Bias_distribution_fiducial[4][0]\n",
    "\n",
    "n_steps = 3000\n",
    "nwalkers = 40\n",
    "print(cpu_count())\n",
    "# Initialize the walkers\n",
    "pos = [Omega_c_est, mu0_est,Sigma0_est, A_s1e9_est, h_est, n_s_est, wb_est,b1_est,b2_est,b3_est,b4_est,b5_est] \\\n",
    "+ np.append(np.append(1e-3 * np.random.randn(nwalkers, 5), 1e-5*np.random.randn(nwalkers, 2), axis = 1), \\\n",
    "            1e-3 * np.random.randn(nwalkers, 5), axis = 1)\n",
    "\n",
    "nwalkers, ndim = pos.shape\n",
    "print(nwalkers, ndim)\n",
    "\n",
    "# Create the output directory and set up the HDF5 backend\n",
    "mcmc_dir = \"/home/c2042999/PCA_project/Likelihood_estimation_3x2pt_fsigma8/mcmc\"\n",
    "filename = mcmc_dir + \"/mcmc_fR_gamma_progress.h5\"\n",
    "backend = emcee.backends.HDFBackend(filename)\n",
    "\n",
    "# Optionally reset the backend if starting a new run\n",
    "backend.reset(nwalkers, ndim)\n",
    "\n",
    "\"\"\"\n",
    "sampler_PCA = emcee.EnsembleSampler(nwalkers, ndim, log_probability)\n",
    "start = time.time()\n",
    "sampler_PCA.run_mcmc(pos, n_steps, progress=True)\n",
    "end = time.time()\n",
    "serial_time = end - start\n",
    "print(\"Serial took {0:.1f} seconds\".format(serial_time))\n",
    "\"\"\"\n",
    "with Pool(40) as pool:\n",
    "    sampler_PCA = emcee.EnsembleSampler(nwalkers, ndim, log_probability, backend=backend, pool=pool)\n",
    "\n",
    "    pos = sampler_PCA.get_last_sample() if backend.iteration > 0 else pos  # Start from previous position if exists\n",
    "    \n",
    "    start = time.time()\n",
    "    sampler_PCA.run_mcmc(pos, n_steps, progress=True, store=True)\n",
    "    end = time.time()\n",
    "    multi_time = end - start\n",
    "    \n",
    "    print(\"Multiprocessing took {0:.1f} seconds\".format(multi_time))\n",
    "    print(\"{0:.1f} times faster than serial\".format(serial_time / multi_time))\n"
   ]
  },
  {
   "cell_type": "code",
   "execution_count": null,
   "metadata": {},
   "outputs": [],
   "source": [
    "np.save(\"/home/c2042999/PCA_project/chains/3x2pt_DEparam_bias/minhparam_fR_test.npy\", sampler_PCA.chain)"
   ]
  },
  {
   "cell_type": "code",
   "execution_count": null,
   "metadata": {},
   "outputs": [],
   "source": [
    "sampler_PCA_arr = sampler_PCA.chain\n",
    "\n",
    "fig, ax = plt.subplots(len(sampler_PCA_arr[0, 0, :]), sharex=True)\n",
    "labels = [r\"$\\Omega_c$\", r\"$\\mu_0$\",r\"$\\Sigma_0$\", r\"$10^{9}A_s$\", r\"$h$\", r\"$n_s$\", r\"$\\omega_b$\",\\\n",
    "         r'$b_1$', r'$b_2$', r'$b_3$', r'$b_4$', r'$b_5$']\n",
    "\n",
    "value1 = [cosmo_universe[\"Omega_c\"], 0.0, 0.0,cosmo_universe[\"A_s\"]*1e9, cosmo_universe[\"h\"],\\\n",
    "          cosmo_universe[\"n_s\"],cosmo_universe[\"Omega_b\"]*cosmo_universe[\"h\"]**2,\\\n",
    "         Bias_distribution_fiducial[0][0], Bias_distribution_fiducial[1][0],\\\n",
    "         Bias_distribution_fiducial[2][0],Bias_distribution_fiducial[3][0],\\\n",
    "         Bias_distribution_fiducial[4][0]]\n",
    "\n",
    "for i in range(len(sampler_PCA_arr)):\n",
    "    for j in range(len(sampler_PCA_arr[0, 0, :])):\n",
    "        ax[j].plot(sampler_PCA_arr[i, :, j], color = \"black\")\n",
    "        ax[j].plot([0,len(sampler_PCA_arr[0, :, 0])],[value1[j],value1[j]], color=\"gray\", linestyle=\"--\")\n",
    "        ax[j].set_ylabel(labels[j])\n",
    "        "
   ]
  },
  {
   "cell_type": "code",
   "execution_count": 21,
   "metadata": {},
   "outputs": [
    {
     "name": "stdout",
     "output_type": "stream",
     "text": [
      "ratio convergence (want < 1) =  nan\n",
      "(80, 5, 12)\n"
     ]
    },
    {
     "name": "stderr",
     "output_type": "stream",
     "text": [
      "/home/c2042999/PCA_env/3.8.10/lib/python3.10/site-packages/emcee/autocorr.py:38: RuntimeWarning: invalid value encountered in divide\n",
      "  acf /= acf[0]\n"
     ]
    }
   ],
   "source": [
    "tau = sampler_PCA.get_autocorr_time(tol=0)\n",
    "\n",
    "max_tau_ratio = np.max(tau * 100 / sampler_PCA.iteration)\n",
    "print(\"ratio convergence (want < 1) = \", max_tau_ratio)\n",
    "print(sampler_PCA.chain.shape)"
   ]
  },
  {
   "cell_type": "code",
   "execution_count": null,
   "metadata": {},
   "outputs": [],
   "source": []
  }
 ],
 "metadata": {
  "kernelspec": {
   "display_name": "PCA_env",
   "language": "python",
   "name": "pca_env"
  },
  "language_info": {
   "codemirror_mode": {
    "name": "ipython",
    "version": 3
   },
   "file_extension": ".py",
   "mimetype": "text/x-python",
   "name": "python",
   "nbconvert_exporter": "python",
   "pygments_lexer": "ipython3",
   "version": "3.10.12"
  }
 },
 "nbformat": 4,
 "nbformat_minor": 4
}
