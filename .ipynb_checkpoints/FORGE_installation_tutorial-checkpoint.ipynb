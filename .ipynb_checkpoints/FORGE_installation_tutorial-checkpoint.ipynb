{
 "cells": [
  {
   "cell_type": "code",
   "execution_count": 4,
   "id": "9a8a2119",
   "metadata": {
    "scrolled": true
   },
   "outputs": [],
   "source": [
    "import pyccl as ccl\n",
    "import numpy as np\n",
    "from scipy.integrate import odeint\n",
    "import matplotlib.pyplot as plt\n",
    "import sys\n",
    "import scipy\n",
    "from functools import lru_cache\n",
    "\n",
    "MODULE_PATH = \"/home/c2042999/MGCAMB/camb/__init__.py\"\n",
    "MODULE_NAME = \"MGCAMB\"\n",
    "import importlib\n",
    "spec = importlib.util.spec_from_file_location(MODULE_NAME, MODULE_PATH)\n",
    "module = importlib.util.module_from_spec(spec)\n",
    "sys.modules[spec.name] = module \n",
    "spec.loader.exec_module(module)\n",
    "\n",
    "from MGCAMB import camb\n"
   ]
  },
  {
   "cell_type": "code",
   "execution_count": 5,
   "id": "8261632d-4eb5-4d7d-a98c-2acb83958552",
   "metadata": {},
   "outputs": [],
   "source": [
    "# Import the f(R) matter power spectrum boost class.\n",
    "from emantis import FofrBoost\n",
    "\n",
    "# Initialise and emulator instance.\n",
    "emu_fR = FofrBoost()\n",
    "\n",
    "\n",
    "# For doing Gaussian processes\n",
    "sys.path.append(\"/home/c2042999/forge_emulator\")\n",
    "\n",
    "from FORGE_emulator import FORGE\n",
    "\n",
    "#create an emulator instance; \n",
    "#it's recommended to do this once at the start as multiple \n",
    "#instances might lead to duplications in training work\n",
    "forge_emulator = FORGE()"
   ]
  },
  {
   "cell_type": "code",
   "execution_count": 55,
   "id": "33a063e9-40e1-4a2f-8bc3-269af7fdc50b",
   "metadata": {},
   "outputs": [],
   "source": [
    "\"\"\"For tests\"\"\"\n",
    "\n",
    "cosmo_testing = ccl.Cosmology(Omega_c = (0.1417493400784 - 0.0223)/0.67**2,\n",
    "                           Omega_b =  0.0223/0.67**2,\n",
    "                           h = 0.67,\n",
    "                           n_s = 0.9665,\n",
    "                           A_s = 2.01e-9)\n",
    "\n",
    "cosmo_testing_FORGE = ccl.Cosmology(Omega_c = (0.1417493400784 - 0.0223)/0.67**2,\n",
    "                           Omega_b =  0.0223/0.67**2,\n",
    "                           h = 0.67,\n",
    "                           n_s = 0.9665,\n",
    "                           A_s = 2.01e-9,\n",
    "                           T_CMB = 0.0,\n",
    "                           Omega_g = 0.0)"
   ]
  },
  {
   "cell_type": "code",
   "execution_count": 17,
   "id": "2c2a25bd-1fda-4a1f-8088-8f2e45b20789",
   "metadata": {},
   "outputs": [],
   "source": [
    "\"\"\"Linear matter power spectra f(R)\"\"\"\n",
    "\n",
    "@lru_cache(maxsize=128)  # You can adjust maxsize according to your memory constraints\n",
    "def create_interpolator(cosmo_values, MGparams_tuple):\n",
    "    \n",
    "    H0rc, fR0, n, mu, Sigma = MGparams_tuple\n",
    "\n",
    "    pars = camb.CAMBparams()\n",
    "    pars.set_cosmology(H0=cosmo_values['h'] * 100, \n",
    "                       ombh2=cosmo_values['Omega_b'] * cosmo_values['h']**2, \n",
    "                       omch2=cosmo_values['Omega_c'] * cosmo_values['h']**2, \n",
    "                       omk=0, mnu=0.0)\n",
    "    pars.InitPower.set_params(ns=cosmo_values['n_s'], As=cosmo_values['A_s'])\n",
    "    pars.set_mgparams(MG_flag=3, GRtrans=0.0, QSA_flag=4, F_R0=fR0, FRn=1.0)\n",
    "    pars.NonLinear = camb.model.NonLinear_none\n",
    "    PK = camb.get_matter_power_interpolator(pars, nonlinear=False, hubble_units=False, k_hunit=False, zmax=100)\n",
    "    return PK\n",
    "\n",
    "def P_k_fR_lin(cosmo, MGparams, k, a):\n",
    "    if MGparams[1] == 0:\n",
    "        return ccl.linear_matter_power(cosmo, k=k, a=a)\n",
    "    else:\n",
    "        MGparams_tuple = tuple(MGparams)\n",
    "        PK = create_interpolator(cosmo, MGparams_tuple)\n",
    "        return PK.P(1/a-1, k)\n",
    "\n",
    "\n",
    "\"\"\"Linear matter power f(R) (function for mu(k,a))\"\"\"\n",
    "def mu_fR(fR0, cosmo, k, a):\n",
    "    # k is in units 1/Mpc\n",
    "    # We want H0 in units 1/Mpc, so H0 = 100h/c\n",
    "    if fR0 == 0:\n",
    "        return np.ones(len(k))\n",
    "    else:\n",
    "        # from ReACT paper\n",
    "        f0 = fR0 / (cosmo[\"h\"]*100/3e5)**2\n",
    "        Zi = (cosmo[\"Omega_m\"] + 4*a**3*(1-cosmo[\"Omega_m\"]))/a**3\n",
    "        Pi = (k/a)**2 + Zi**3/2/f0/(3*cosmo[\"Omega_m\"] - 4)**2\n",
    "        return 1 + (k/a)**2/3/Pi\n"
   ]
  },
  {
   "cell_type": "code",
   "execution_count": null,
   "id": "86d39aae-8e85-4b03-9047-1e9e0cad7b52",
   "metadata": {},
   "outputs": [],
   "source": [
    "# Define the cosmological parameters and scale factor.\n",
    "logfR0 = 5\n",
    "aexp = 1\n",
    "#now we want to make predictions for the following cosmology\n",
    "omega_m = cosmo_testing[\"Omega_m\"]\n",
    "h = cosmo_testing[\"h\"]\n",
    "sigma8_lcdm = ccl.sigma8(cosmo_testing)\n",
    "\n",
    "# Predict the power spectrum boost for a given set of cosmological parameters and a given scale factor.\n",
    "boost_pred = emu_fR.predict_boost(omega_m, sigma8_lcdm, logfR0, aexp, k = None)\n",
    "\n",
    "# Recover then k-bins centres (h/Mpc) at which the boost prediction is given by default.\n",
    "kbins = emu_fR.kbins\n",
    "\n",
    "pk_GR_test_fR_emu, error = forge_emulator.predict_Pk(1/aexp -1, omega_m, h, 7, sigma8_lcdm)\n",
    "pk_GR_test_fR = ccl.nonlin_matter_power(cosmo_testing, k=forge_emulator.k*cosmo_testing[\"h\"], a=1)*cosmo_testing[\"h\"]**3\n",
    "pk_GR_test_FORGE = ccl.nonlin_matter_power(cosmo_testing_FORGE, k=forge_emulator.k*cosmo_testing[\"h\"], a=1)*cosmo_testing[\"h\"]**3\n",
    "\n",
    "Bk, error = forge_emulator.predict_Bk(1/aexp -1, omega_m, h, logfR0, sigma8_lcdm)\n",
    "Pk, error = forge_emulator.predict_Pk(1/aexp -1, omega_m, h, logfR0, sigma8_lcdm)\n",
    "\n",
    "plt.plot(forge_emulator.k, Pk/pk_GR_test_FORGE, ls = '-', color=\"r\")\n",
    "plt.plot(forge_emulator.k, Bk, ls = '--', color=\"r\")\n",
    "plt.fill_between(forge_emulator.k, (Pk+error)/pk_GR_test_FORGE, (Pk-error)/pk_GR_test_FORGE, alpha=0.5)\n",
    "#plt.plot(forge_emulator.k, pk_GR_test_fR_emu/pk_GR_test_fR, ls = '--', color=\"r\")\n",
    "\n",
    "#### Linear ####\n",
    "pk_GR_test_lin_fR = ccl.linear_matter_power(cosmo_testing, k=forge_emulator.k, a=1)\n",
    "\n",
    "pk_test_fR_lin = P_k_fR_lin(cosmo_testing, [0.0,10**(-logfR0),1,0,0], forge_emulator.k, 1)\n",
    "\n",
    "plt.plot(forge_emulator.k/cosmo_testing[\"h\"], pk_test_fR_lin/pk_GR_test_lin_fR, \"k--\")\n",
    "\n",
    "# Plot the predicted boost.\n",
    "plt.plot(kbins, boost_pred, color=\"b\")\n",
    "plt.xscale('log')\n",
    "plt.ylim(0.95,1.2)\n",
    "plt.xlabel(r'$k \\ \\left[h\\mathrm{Mpc}^{-1}\\right]$')\n",
    "plt.ylabel(r'$P_{f(R)}/P_{\\Lambda\\mathrm{CDM}}$')\n",
    "plt.grid(True, linestyle='--')\n",
    "plt.show()\n",
    "\n",
    "\n"
   ]
  },
  {
   "cell_type": "code",
   "execution_count": 13,
   "id": "11ebc200-d3f8-4b32-bc53-f6e5201be580",
   "metadata": {},
   "outputs": [],
   "source": [
    "# NL matter power spectra in fR\n",
    "def P_k_NL_fR(cosmo, MGparams, k, a):\n",
    "    \"\"\"\n",
    "    input k (array) -> wavevector, units 1/Mpc\n",
    "    input a (float) -> scale factor (1/(1+z))\n",
    "    input cosmo (cosmology object) -> Cosmology object from CCL\n",
    "    input MGparams (array) -> Modified gravity parameters ([Omega_rc, fR0, n, mu])\n",
    "    \n",
    "    output Pk_fR (array) -> Nonlinear matter power spectrum for Hu-Sawicki fR gravity, units (Mpc)^3\n",
    "    \"\"\"\n",
    "    H0rc, fR0, n, mu = MGparams\n",
    "\n",
    "    sigma8_VAL_lcdm = ccl.sigma8(cosmo)\n",
    "    \n",
    "    pkratio_fR, error = forge_emulator.predict_Bk(1/a -1, cosmo[\"Omega_m\"], cosmo[\"h\"], -np.log10(fR0), sigma8_VAL_lcdm)\n",
    "\n",
    "    pkratio_fR = np.interp(k/cosmo[\"h\"], forge_emulator.k, pkratio_fR)\n",
    "    # k is in units [h/Mpc]\n",
    "\n",
    "    Pk_ccl = ccl.power.nonlin_power(cosmo, k, a=a) # units (Mpc)^3\n",
    "    Pk = pkratio_fR*Pk_ccl\n",
    "\n",
    "    return Pk"
   ]
  },
  {
   "cell_type": "code",
   "execution_count": 14,
   "id": "d654b38c-3f41-4e8f-9c02-d0067f612471",
   "metadata": {},
   "outputs": [],
   "source": [
    "@lru_cache(maxsize=128)  # You can adjust maxsize according to your memory constraints\n",
    "def create_interpolator(cosmo_values, MGparams_tuple):\n",
    "    \n",
    "    H0rc, fR0, n, mu = MGparams_tuple\n",
    "\n",
    "    pars = camb.CAMBparams()\n",
    "    pars.set_cosmology(H0=cosmo_values['h'] * 100, \n",
    "                       ombh2=cosmo_values['Omega_b'] * cosmo_values['h']**2, \n",
    "                       omch2=cosmo_values['Omega_c'] * cosmo_values['h']**2, \n",
    "                       omk=0, mnu=0.0)\n",
    "    pars.InitPower.set_params(ns=cosmo_values['n_s'], As=cosmo_values['A_s'])\n",
    "    pars.set_mgparams(MG_flag=3, GRtrans=0.0, QSA_flag=4, F_R0=fR0, FRn=1.0)\n",
    "    pars.NonLinear = camb.model.NonLinear_none\n",
    "    PK = camb.get_matter_power_interpolator(pars, nonlinear=False, hubble_units=False, k_hunit=False, zmax=100)\n",
    "    return PK\n",
    "\n",
    "def P_k_fR_lin(cosmo, MGparams, k, a):\n",
    "    if MGparams[1] == 0:\n",
    "        return ccl.linear_matter_power(cosmo, k=k, a=a)\n",
    "    else:\n",
    "        MGparams_tuple = tuple(MGparams)\n",
    "        PK = create_interpolator(cosmo, MGparams_tuple)\n",
    "        return PK.P(1/a-1, k)"
   ]
  },
  {
   "cell_type": "code",
   "execution_count": 15,
   "id": "072e29e9-a3a6-48cd-ac36-ca2c6c70f697",
   "metadata": {},
   "outputs": [],
   "source": [
    "cosmo_testing = ccl.Cosmology(Omega_c = (0.1417493400784 - 0.0223)/0.67**2,\n",
    "                           Omega_b =  0.0223/0.67**2,\n",
    "                           h = 0.67,\n",
    "                           n_s = 0.9665,\n",
    "                           A_s = 2.01e-9)\n",
    "\n",
    "k_test = np.logspace(-1.5, 0, 100)\n",
    "\n",
    "pk_test = P_k_NL_fR(cosmo_testing, [0.0,9e-5,1,0], k_test, 1)\n",
    "pk_test_lin = P_k_fR_lin(cosmo_testing, [0.0,9e-5,1,0], k_test, 1)\n",
    "\n",
    "pk_GR_test = ccl.nonlin_matter_power(cosmo_testing, k=k_test, a=1)\n",
    "pk_GR_test_lin = ccl.linear_matter_power(cosmo_testing, k=k_test, a=1)\n"
   ]
  },
  {
   "cell_type": "code",
   "execution_count": 16,
   "id": "1889e2e7-03c4-4869-9439-b235469eb2ac",
   "metadata": {},
   "outputs": [
    {
     "data": {
      "text/plain": [
       "[<matplotlib.lines.Line2D at 0x7f9de858b040>]"
      ]
     },
     "execution_count": 16,
     "metadata": {},
     "output_type": "execute_result"
    },
    {
     "data": {
      "image/png": "[encoded data removed]",
      "text/plain": [
       "<Figure size 640x480 with 1 Axes>"
      ]
     },
     "metadata": {},
     "output_type": "display_data"
    }
   ],
   "source": [
    "plt.loglog(k_test,pk_test)\n",
    "plt.loglog(k_test,pk_test_lin)\n",
    "plt.loglog(k_test,pk_GR_test, \"k--\")\n",
    "plt.loglog(k_test,pk_GR_test_lin, \"k--\")\n"
   ]
  },
  {
   "cell_type": "code",
   "execution_count": null,
   "id": "c9b6c84d-97f7-45c0-9475-10fb9d3e072f",
   "metadata": {},
   "outputs": [],
   "source": []
  }
 ],
 "metadata": {
  "kernelspec": {
   "display_name": "PCA_env",
   "language": "python",
   "name": "pca_env"
  },
  "language_info": {
   "codemirror_mode": {
    "name": "ipython",
    "version": 3
   },
   "file_extension": ".py",
   "mimetype": "text/x-python",
   "name": "python",
   "nbconvert_exporter": "python",
   "pygments_lexer": "ipython3",
   "version": "3.10.12"
  }
 },
 "nbformat": 4,
 "nbformat_minor": 5
}
