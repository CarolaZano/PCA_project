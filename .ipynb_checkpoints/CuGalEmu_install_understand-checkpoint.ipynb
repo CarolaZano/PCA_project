{
 "cells": [
  {
   "cell_type": "code",
   "execution_count": 1,
   "id": "cae53c60-b399-4f9a-bb1f-954b044094be",
   "metadata": {},
   "outputs": [],
   "source": [
    "from CubicGalileonEmu.load import *\n",
    "from CubicGalileonEmu.viz import *\n",
    "from CubicGalileonEmu.pca import *\n",
    "from CubicGalileonEmu.gp import *\n",
    "from CubicGalileonEmu.emu import *\n",
    "from CubicGalileonEmu.mcmc import *\n",
    "\n",
    "import pandas as pd\n",
    "import numpy as np\n",
    "import matplotlib.pylab as plt\n",
    "\n",
    "\n",
    "if_train_all = False ## Re-train all the models. Time-consuming. \n",
    "if_mcmc_all = False  ## Full MCMC run. Time-consuming. \n",
    "if_savefig = False"
   ]
  },
  {
   "cell_type": "code",
   "execution_count": 2,
   "id": "2244a474-075a-4a4c-9eac-bff6850175d8",
   "metadata": {},
   "outputs": [],
   "source": [
    "Bk_all, k_all, z_all = load_boost_data()\n",
    "p_all = load_params()"
   ]
  },
  {
   "cell_type": "code",
   "execution_count": 3,
   "id": "e95783ee-3cd9-4691-85ff-c8e374f1cd34",
   "metadata": {},
   "outputs": [
    {
     "name": "stdout",
     "output_type": "stream",
     "text": [
      "(50, 5)\n",
      "[[0.31051392 1.085      2.541      0.67373333 0.480012  ]\n",
      " [0.32665203 0.9265     3.141      0.65413333 0.579972  ]\n",
      " [0.32890386 1.08       2.166      0.70066667 0.220018  ]\n",
      " [0.29906712 0.901      2.616      0.72266667 0.279994  ]\n",
      " [0.30826209 0.9776     1.678      0.7104     0.319978  ]]\n"
     ]
    }
   ],
   "source": [
    "print(p_all.shape)\n",
    "print(p_all[:5])"
   ]
  },
  {
   "cell_type": "code",
   "execution_count": 4,
   "id": "cd2c5561-603f-4796-b6b4-830da7f3c820",
   "metadata": {},
   "outputs": [
    {
     "name": "stdout",
     "output_type": "stream",
     "text": [
      "Redshift: 0.02\n"
     ]
    }
   ],
   "source": [
    "## Data prep\n",
    "z_index = 1\n",
    "y_vals = Bk_all[:, z_index, :]\n",
    "# y_ind = np.arange(0, y_vals.shape[1])\n",
    "y_ind = k_all\n",
    "\n",
    "# Train-test split\n",
    "# test_indices = [0, 14, 35]\n",
    "# input_params= p_all[test_indices]\n",
    "# target_vals = Bk_all[:, z_index, :][test_indices]\n",
    "\n",
    "# Load validation data\n",
    "\n",
    "Bk_all_val, _, _ = load_boost_data(LIBRARY_BK_FILE_VAL, LIBRARY_ZK_FILE_VAL)\n",
    "target_vals = Bk_all_val[:, z_index, :]\n",
    "input_params = load_params(LIBRARY_PARAM_FILE_VAL)\n",
    "\n",
    "train_indices = [i for i in  np.arange(49)] # if i not in test_indices]\n",
    "p_all_train = p_all[train_indices]\n",
    "y_vals_train = Bk_all[:, z_index, :][train_indices]\n",
    "print('Redshift: ' + str(z_all[z_index]))"
   ]
  },
  {
   "cell_type": "code",
   "execution_count": null,
   "id": "3c40317c-9930-479b-a85d-dd683b2c31f7",
   "metadata": {},
   "outputs": [
    {
     "name": "stdout",
     "output_type": "stream",
     "text": [
      "This SepiaData instance implies the following:\n",
      "This is a simulator (eta)-only model, y dimension 768\n",
      "m  =    49 (number of simulated data)\n",
      "p  =     1 (number of inputs)\n",
      "q  =     5 (number of additional simulation inputs)\n",
      "pu NOT SET (transformed response dimension); call method create_K_basis \n",
      "\n",
      "Starting tune_step_sizes...\n",
      "Default step sizes:\n",
      "betaU\n",
      "[[0.1 0.1]\n",
      " [0.1 0.1]\n",
      " [0.1 0.1]\n",
      " [0.1 0.1]\n",
      " [0.1 0.1]\n",
      " [0.1 0.1]]\n",
      "lamUz\n",
      "[[5. 5.]]\n",
      "lamWs\n",
      "[[100. 100.]]\n",
      "lamWOs\n",
      "[[100.]]\n"
     ]
    },
    {
     "name": "stderr",
     "output_type": "stream",
     "text": [
      "Step size tuning: 100%|█████████████████████████████████████████████████████████████████████████████████████████████████████████████████████████████████████████████████████| 50/50 [00:04<00:00, 11.78it/s]\n"
     ]
    },
    {
     "name": "stdout",
     "output_type": "stream",
     "text": [
      "Done with tune_step_size.\n",
      "Selected step sizes:\n",
      "betaU\n",
      "[[0.72661064 0.5535419 ]\n",
      " [0.06269503 0.24556046]\n",
      " [0.08029511 0.75353189]\n",
      " [0.09956949 0.60849411]\n",
      " [0.14377916 0.55851978]\n",
      " [0.93232044 0.69850757]]\n",
      "lamUz\n",
      "[[1.31936391 1.21879662]]\n",
      "lamWs\n",
      "[[472.03082156 865.69821377]]\n",
      "lamWOs\n",
      "[[14.76570069]]\n"
     ]
    },
    {
     "name": "stderr",
     "output_type": "stream",
     "text": [
      "MCMC sampling: 100%|███████████████████████████████████████████████████████████████████████████████████████████████████████████████████████████████████████████████████| 1000/1000 [00:03<00:00, 273.12it/s]\n"
     ]
    },
    {
     "name": "stdout",
     "output_type": "stream",
     "text": [
      "Model saved to /home/c2042999/CubicGalileonEmu/CubicGalileonEmu/model/multivariate_model_z_index1.pkl\n",
      "No thetas to plot\n"
     ]
    },
    {
     "data": {
      "text/plain": [
       "(None, <Figure size 1000x750 with 5 Axes>)"
      ]
     },
     "execution_count": 5,
     "metadata": {},
     "output_type": "execute_result"
    }
   ],
   "source": [
    "sepia_data = sepia_data_format(p_all_train, y_vals_train, y_ind)\n",
    "print(sepia_data)\n",
    "model_filename = '/home/c2042999/CubicGalileonEmu/CubicGalileonEmu/model/multivariate_model_z_index' + str(z_index) \n",
    "\n",
    "sepia_model = do_pca(sepia_data, exp_variance=0.95)\n",
    "sepia_model = do_gp_train(sepia_model, model_filename)\n",
    "plot_train_diagnostics(sepia_model)"
   ]
  },
  {
   "cell_type": "code",
   "execution_count": null,
   "id": "d9cdcd33-68a5-4286-ba62-154529dc1412",
   "metadata": {},
   "outputs": [],
   "source": [
    "sepia_model = gp_load(sepia_model, model_filename)"
   ]
  },
  {
   "cell_type": "code",
   "execution_count": null,
   "id": "7dc27523-b94d-4bf1-8259-9a542005acd0",
   "metadata": {},
   "outputs": [],
   "source": [
    "if if_train_all:\n",
    "    \n",
    "    do_gp_train_multiple(model_dir='/home/c2042999/CubicGalileonEmu/CubicGalileonEmu/model/', \n",
    "                        p_train_all = p_all[train_indices],\n",
    "                        y_vals_all = Bk_all[train_indices],\n",
    "                        y_ind_all = k_all,\n",
    "                        z_index_range=range(49))"
   ]
  },
  {
   "cell_type": "code",
   "execution_count": null,
   "id": "d81beec4-5e66-466d-ad33-5bbaa75fe983",
   "metadata": {},
   "outputs": [],
   "source": [
    "sepia_model_list = load_model_multiple(model_dir='/home/c2042999/CubicGalileonEmu/CubicGalileonEmu/model/', \n",
    "                                        p_train_all=p_all[train_indices],\n",
    "                                        y_vals_all=Bk_all[train_indices],\n",
    "                                        y_ind_all=k_all,\n",
    "                                        z_index_range=range(49), \n",
    "                                        sepia_model_i=sepia_model)"
   ]
  },
  {
   "cell_type": "code",
   "execution_count": null,
   "id": "ef41e45f-9c0c-41b4-9aa4-ff65f62a81e2",
   "metadata": {},
   "outputs": [],
   "source": [
    "# Parameter settings\n",
    "steps = 40  # Number of steps in the grid for each parameter\n",
    "param_name_extended = np.append(PARAM_NAME, 'Redshift')\n",
    "red_min = 0\n",
    "red_max = 3\n",
    "red_mean = 1.0\n",
    "\n",
    "param_min = np.append(p_all.min(axis=0), red_min)\n",
    "param_max = np.append(p_all.max(axis=0), red_max)\n",
    "param_mean = np.append(p_all.mean(axis=0), red_mean)\n",
    "\n",
    "# Compute outputs and errors for a range of parameter values\n",
    "def compute_errors(param_grid):\n",
    "    print(param_grid.shape)\n",
    "    errors = np.zeros(shape=(param_grid.shape[0], ))\n",
    "    # errors = np.array([np.mean(emu_redshift(params[np.newaxis, :], sepia_model_list, z_all)[1][:, 0, :]**2) for params in param_grid])\n",
    "    for par_indx in range(errors.shape[0]):\n",
    "\n",
    "        errors[par_indx] = np.mean(emu_redshift(param_grid[par_indx][np.newaxis, :], sepia_model_list, z_all)[1][:, 0, :]**2)\n",
    "\n",
    "    return errors.reshape(steps, steps)\n",
    "\n",
    "\n",
    "# Example usage:\n",
    "param_indices = [4, 5]  # Indices of parameters to vary\n",
    "fixed_indices = [i for i in range(len(param_name_extended)) if i not in param_indices]\n",
    "fixed_params = {param_name_extended[i]: param_mean[i] for i in fixed_indices}\n",
    "\n",
    "param_grid = generate_param_grid_with_fixed(param_name_extended, param_indices, fixed_params, param_min, param_max, steps)\n",
    "\n"
   ]
  },
  {
   "cell_type": "code",
   "execution_count": null,
   "id": "bfc2ad5e-aad5-4985-bf5a-ca23aa3ed2fa",
   "metadata": {},
   "outputs": [],
   "source": [
    "target_indx = 0 #0 ,14, 35\n",
    "z_index = 2\n",
    "L = 32\n",
    "fake_obs_data_index_every = 1\n",
    "\n",
    "redshift = z_all[z_index]\n",
    "x = k_all[::fake_obs_data_index_every]\n",
    "y = Bk_all[:, z_index, :][target_indx][::fake_obs_data_index_every]\n",
    "y = y + 1e-4*np.random.normal(0.0, 1.0, size=y.shape)\n",
    "yerr = np.sqrt( Bk_all[:, z_index, :][target_indx][::fake_obs_data_index_every]*(L**3))/(L**3)\n",
    "\n",
    "x_grid = k_all\n",
    "params_calib = p_all[target_indx][:, np.newaxis].T\n",
    "print('redshift: ', redshift)"
   ]
  },
  {
   "cell_type": "code",
   "execution_count": null,
   "id": "35da06a5-0c5d-4439-9079-d7491ae09160",
   "metadata": {},
   "outputs": [],
   "source": [
    "print(\"imput_params=\",param_grid)"
   ]
  },
  {
   "cell_type": "code",
   "execution_count": null,
   "id": "fa8d70b0-cadd-4e68-b197-4f92ba9ae072",
   "metadata": {},
   "outputs": [],
   "source": [
    "input_params_and_redshift = np.append(params_calib, redshift)\n",
    "bk_target, err_target = emu_redshift(input_params_and_redshift[np.newaxis, :], sepia_model_list, z_all)\n",
    "\n",
    "string_print0 = 'Target Params \\n\\n' \n",
    "string_print1 = PARAM_NAME[0] + '= %.4f'%input_params_and_redshift[0] + '\\n'\n",
    "string_print2 = PARAM_NAME[1] + '= %.4f'%input_params_and_redshift[1] + '\\n'\n",
    "string_print3 = PARAM_NAME[2] + '= %.4f'%input_params_and_redshift[2] + '\\n'\n",
    "string_print4 = PARAM_NAME[3] + '= %.4f'%input_params_and_redshift[3] + '\\n'\n",
    "string_print5 = PARAM_NAME[4] + '= %.4f'%input_params_and_redshift[4] + '\\n'\n",
    "string_print6 = 'redshift' + '= %.4f'%input_params_and_redshift[5] \n",
    "\n",
    "\n",
    "string_print = string_print0 + string_print1 + string_print2 + string_print3 + string_print4 + string_print5 + string_print6\n"
   ]
  },
  {
   "cell_type": "code",
   "execution_count": null,
   "id": "28e34185-cf7d-4b55-a0a5-6c0dd78df656",
   "metadata": {},
   "outputs": [],
   "source": [
    "input_params_and_redshift = np.append(np.array([0.30,0.97498,2.37232,0.67,0.02]) , 2.0)     \n",
    "bk_target, err_target = emu_redshift(input_params_and_redshift[np.newaxis, :], sepia_model_list, z_all)\n"
   ]
  },
  {
   "cell_type": "code",
   "execution_count": null,
   "id": "a96874d1-2aa3-49c4-bac5-9c45908ce856",
   "metadata": {},
   "outputs": [],
   "source": [
    "plt.semilogx(k_all, bk_target)\n",
    "plt.semilogx(k_all, bk_target[0]*np.ones(len(k_all)))"
   ]
  },
  {
   "cell_type": "code",
   "execution_count": null,
   "id": "bf897919-2456-4f0d-b962-b632e2616f13",
   "metadata": {},
   "outputs": [],
   "source": []
  }
 ],
 "metadata": {
  "kernelspec": {
   "display_name": "PCA_env",
   "language": "python",
   "name": "pca_env"
  },
  "language_info": {
   "codemirror_mode": {
    "name": "ipython",
    "version": 3
   },
   "file_extension": ".py",
   "mimetype": "text/x-python",
   "name": "python",
   "nbconvert_exporter": "python",
   "pygments_lexer": "ipython3",
   "version": "3.10.12"
  }
 },
 "nbformat": 4,
 "nbformat_minor": 5
}
